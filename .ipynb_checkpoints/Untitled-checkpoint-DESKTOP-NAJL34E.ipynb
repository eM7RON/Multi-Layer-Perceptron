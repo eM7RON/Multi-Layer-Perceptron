{
 "cells": [
  {
   "cell_type": "code",
   "execution_count": 13,
   "metadata": {},
   "outputs": [
    {
     "name": "stdout",
     "output_type": "stream",
     "text": [
      "3.7.3 (default, Apr 24 2019, 15:29:51) [MSC v.1915 64 bit (AMD64)]\n",
      "# packages in environment at C:\\Anaconda3\\envs\\NLP37:\n",
      "#\n",
      "# Name                    Version                   Build  Channel\n",
      "_pytorch_select           1.1.0                       cpu  \n",
      "alabaster                 0.7.12                   py37_0  \n",
      "asn1crypto                0.24.0                   py37_0  \n",
      "atomicwrites              1.3.0                    py37_1  \n",
      "attrs                     19.1.0                   py37_1  \n",
      "babel                     2.7.0                      py_0  \n",
      "backcall                  0.1.0                    py37_0  \n",
      "beautifulsoup4            4.7.1                    pypi_0    pypi\n",
      "blas                      1.0                         mkl  \n",
      "boto                      2.49.0                   py37_0    anaconda\n",
      "boto3                     1.9.162                    py_0    anaconda\n",
      "botocore                  1.12.163                   py_0    anaconda\n",
      "bs4                       0.0.1                    pypi_0    pypi\n",
      "bz2file                   0.98                     py37_1    anaconda\n",
      "ca-certificates           2019.11.28           hecc5488_0    conda-forge\n",
      "cchardet                  2.1.4                    pypi_0    pypi\n",
      "certifi                   2019.11.28               py37_0    conda-forge\n",
      "cffi                      1.12.3           py37h7a1dbc1_0  \n",
      "chardet                   3.0.4                    py37_1  \n",
      "click                     7.0                      pypi_0    pypi\n",
      "colorama                  0.4.1                    py37_0  \n",
      "corenlp                   0.0.14                   pypi_0    pypi\n",
      "corenlp-xml-reader        0.1.3                    pypi_0    pypi\n",
      "corenlpy                  0.0.6                    pypi_0    pypi\n",
      "country-list              0.1.3                    pypi_0    pypi\n",
      "cryptography              2.7              py37hb32ad35_0    conda-forge\n",
      "cycler                    0.10.0                   py37_0  \n",
      "cymem                     1.31.2           py37he980bc4_0  \n",
      "cytoolz                   0.9.0.1          py37hfa6e2cd_1  \n",
      "datapackage               1.6.2                    pypi_0    pypi\n",
      "decorator                 4.4.0                    py37_1  \n",
      "dill                      0.2.9                    py37_0  \n",
      "docutils                  0.14                     py37_0    anaconda\n",
      "en-core-web-lg            2.0.0                    pypi_0    pypi\n",
      "en-core-web-md            2.0.0                    pypi_0    pypi\n",
      "en-core-web-sm            2.0.0                    pypi_0    pypi\n",
      "et-xmlfile                1.0.1                    pypi_0    pypi\n",
      "freetype                  2.9.1                ha9979f8_1  \n",
      "funcy                     1.12                     pypi_0    pypi\n",
      "future                    0.17.1                   py37_0  \n",
      "fuzzywuzzy                0.17.0                   pypi_0    pypi\n",
      "gensim                    3.4.0            py37hfa6e2cd_0    anaconda\n",
      "icc_rt                    2019.0.0             h0cc432a_1  \n",
      "icu                       58.2                 ha66f8fd_1  \n",
      "idna                      2.8                      py37_0  \n",
      "ijson                     2.4                      pypi_0    pypi\n",
      "imagesize                 1.1.0                    py37_0  \n",
      "imbalanced-learn          0.5.0                    pypi_0    pypi\n",
      "importlib_metadata        0.17                     py37_1  \n",
      "intel-openmp              2019.4                      245  \n",
      "ipykernel                 5.1.1            py37h39e3cac_0  \n",
      "ipython                   7.6.0            py37h39e3cac_0  \n",
      "ipython_genutils          0.2.0                    py37_0  \n",
      "isodate                   0.6.0                    pypi_0    pypi\n",
      "jdcal                     1.4.1                    pypi_0    pypi\n",
      "jedi                      0.13.3                   py37_0  \n",
      "jinja2                    2.10.1                   py37_0  \n",
      "jmespath                  0.9.4                      py_0    anaconda\n",
      "joblib                    0.13.2                   py37_0  \n",
      "jpeg                      9b                   hb83a4c4_2  \n",
      "jsonlines                 1.2.0                    pypi_0    pypi\n",
      "jsonpointer               2.0                      pypi_0    pypi\n",
      "jsonschema                3.0.2                    pypi_0    pypi\n",
      "jupyter_client            5.2.4                    py37_0  \n",
      "jupyter_core              4.4.0                    py37_0  \n",
      "kaggle                    1.5.6                    py37_1    conda-forge\n",
      "kiwisolver                1.1.0            py37ha925a31_0  \n",
      "libpng                    1.6.37               h2a8f88b_0  \n",
      "libsodium                 1.0.16               h9d3ae62_0  \n",
      "libtiff                   4.0.10               hb898794_2  \n",
      "linear-tsv                1.1.0                    pypi_0    pypi\n",
      "markupsafe                1.1.1            py37he774522_0  \n",
      "matplotlib                3.1.0            py37hc8f65d3_0  \n",
      "mkl                       2019.4                      245  \n",
      "mkl-service               2.0.2            py37he774522_0  \n",
      "mkl_fft                   1.0.12           py37h14836fe_0  \n",
      "mkl_random                1.0.2            py37h343c172_0  \n",
      "more-itertools            7.0.0                    py37_0  \n",
      "msgpack-numpy             0.4.4.2                  py37_0  \n",
      "msgpack-python            0.5.6            py37he980bc4_1  \n",
      "murmurhash                0.28.0           py37he025d50_0  \n",
      "networkx                  2.3                        py_0    anaconda\n",
      "ninja                     1.9.0            py37h74a9793_0  \n",
      "nltk                      3.4.1                    py37_0  \n",
      "numexpr                   2.6.9            py37hdce8814_0  \n",
      "numpy                     1.16.4           py37h19fb1c0_0  \n",
      "numpy-base                1.16.4           py37hc3f5095_0  \n",
      "numpydoc                  0.9.1                      py_0  \n",
      "olefile                   0.46                     py37_0  \n",
      "openpyxl                  2.4.11                   pypi_0    pypi\n",
      "openssl                   1.1.1d               hfa6e2cd_0    conda-forge\n",
      "packaging                 19.0                     py37_0  \n",
      "pandas                    0.24.2           py37ha925a31_0  \n",
      "pandas-datapackage-reader 0.12.1                   pypi_0    pypi\n",
      "parso                     0.4.0                      py_0  \n",
      "phantomjs-binary          2.1.3                    pypi_0    pypi\n",
      "pickleshare               0.7.5                    py37_0  \n",
      "pillow                    6.0.0            py37hdc69c19_0  \n",
      "pip                       19.1.1                   py37_0  \n",
      "plac                      0.9.6                    py37_0  \n",
      "pluggy                    0.12.0                     py_0  \n",
      "preshed                   1.0.1            py37he025d50_0  \n",
      "prompt_toolkit            2.0.9                    py37_0  \n",
      "protobuf                  3.8.0                    pypi_0    pypi\n",
      "py                        1.8.0                    py37_0  \n",
      "pycorenlp                 0.3.0                    pypi_0    pypi\n",
      "pycountry                 19.7.15                  pypi_0    pypi\n",
      "pycparser                 2.19                     py37_0  \n",
      "pygments                  2.4.2                      py_0  \n",
      "pyldavis                  2.1.2                    pypi_0    pypi\n",
      "pyopenssl                 19.0.0                   py37_0  \n",
      "pyparsing                 2.4.0                      py_0  \n",
      "pyqt                      5.9.2            py37h6538335_2  \n",
      "pyreadline                2.1                      py37_1  \n",
      "pyrsistent                0.15.4                   pypi_0    pypi\n",
      "pysocks                   1.7.0                    py37_0  \n",
      "pytest                    5.0.1                    py37_0  \n",
      "python                    3.7.3                h8c8aaf0_1  \n",
      "python-dateutil           2.8.0                    py37_0  \n",
      "python-igraph             0.7.1.post6              pypi_0    pypi\n",
      "python-levenshtein        0.12.0          py37hfa6e2cd_1001    conda-forge\n",
      "python-louvain            0.13                     pypi_0    pypi\n",
      "python-slugify            4.0.0                      py_0    conda-forge\n",
      "pytorch                   1.0.1           cpu_py37h39a92a0_0  \n",
      "pytz                      2019.1                     py_0  \n",
      "pyzmq                     18.0.0           py37ha925a31_0  \n",
      "qt                        5.9.7            vc14h73c81de_0  \n",
      "regex                     2018.07.11       py37hfa6e2cd_0  \n",
      "requests                  2.22.0                   py37_0  \n",
      "rfc3986                   1.3.2                    pypi_0    pypi\n",
      "s3transfer                0.2.0                    py37_0    anaconda\n",
      "scikit-learn              0.21.2           py37h6288b17_0  \n",
      "scipy                     1.2.1            py37h29ff71c_0  \n",
      "selenium                  3.141.0          py37he774522_0  \n",
      "setuptools                41.0.1                   py37_0  \n",
      "sip                       4.19.8           py37h6538335_0  \n",
      "six                       1.12.0                   py37_0  \n",
      "smart_open                1.8.4                      py_0    anaconda\n",
      "snowballstemmer           1.9.0                      py_0  \n",
      "soupsieve                 1.9.2                    pypi_0    pypi\n",
      "spacy                     2.0.12           py37h8300f20_0  \n",
      "sphinx                    2.1.2                      py_0  \n",
      "sphinxcontrib-applehelp   1.0.1                      py_0  \n",
      "sphinxcontrib-devhelp     1.0.1                      py_0  \n",
      "sphinxcontrib-htmlhelp    1.0.2                      py_0  \n",
      "sphinxcontrib-jsmath      1.0.1                      py_0  \n",
      "sphinxcontrib-qthelp      1.0.2                      py_0  \n",
      "sphinxcontrib-serializinghtml 1.1.3                      py_0  \n",
      "sqlalchemy                1.3.6                    pypi_0    pypi\n",
      "sqlite                    3.28.0               he774522_0  \n",
      "stanfordnlp               0.2.0                    pypi_0    pypi\n",
      "tableschema               1.6.0                    pypi_0    pypi\n",
      "tabulator                 1.23.0                   pypi_0    pypi\n",
      "termcolor                 1.1.0                    py37_1  \n",
      "text-unidecode            1.2                        py_0    conda-forge\n",
      "thinc                     6.10.3           py37h8300f20_0  \n",
      "tk                        8.6.8                hfa6e2cd_0  \n",
      "toolz                     0.9.0                    py37_0  \n",
      "tornado                   6.0.2            py37he774522_0  \n",
      "tqdm                      4.32.1                     py_0  \n",
      "traitlets                 4.3.2                    py37_0  \n",
      "ujson                     1.35             py37hfa6e2cd_0  \n",
      "unicodecsv                0.14.1                   pypi_0    pypi\n",
      "unidecode                 1.1.1                      py_0    conda-forge\n",
      "urllib3                   1.24.2                   py37_0  \n",
      "vc                        14.1                 h21ff451_3    anaconda\n",
      "vs2015_runtime            15.5.2                        3    anaconda\n",
      "wcwidth                   0.1.7                    py37_0  \n",
      "wheel                     0.33.4                   py37_0  \n",
      "win_inet_pton             1.1.0                    py37_0  \n",
      "wincertstore              0.2                      py37_0  \n",
      "wordcloud                 1.5.0           py37hfa6e2cd_1000    conda-forge\n",
      "wrapt                     1.10.11          py37hfa6e2cd_2  \n",
      "xlrd                      1.2.0                    py37_0  \n",
      "xz                        5.2.4                h2fa13f4_4  \n",
      "zeromq                    4.3.1                h33f27b4_3  \n",
      "zipp                      0.5.1                      py_0  \n",
      "zlib                      1.2.11               h62dcd97_3  \n",
      "zstd                      1.3.7                h508b16e_0  \n"
     ]
    }
   ],
   "source": [
    "print(__import__('sys').version)\n",
    "!conda list -n NLP37"
   ]
  },
  {
   "cell_type": "markdown",
   "metadata": {},
   "source": [
    "#### Load up a simple dataset from kaggle.com."
   ]
  },
  {
   "cell_type": "code",
   "execution_count": 1,
   "metadata": {},
   "outputs": [],
   "source": [
    "import kaggle, os\n",
    "kaggle.api.authenticate()\n",
    "kaggle.api.dataset_download_files('avnishnish/mnist-original', path=os.getcwd(), unzip=True)"
   ]
  },
  {
   "cell_type": "markdown",
   "metadata": {},
   "source": [
    "#### Import numpy and matplotlib libraries. \n",
    "#### The 'inline' argument sets matplotlib figures to display in the notebook rather than in a separate window. "
   ]
  },
  {
   "cell_type": "code",
   "execution_count": 2,
   "metadata": {},
   "outputs": [
    {
     "name": "stdout",
     "output_type": "stream",
     "text": [
      "Populating the interactive namespace from numpy and matplotlib\n"
     ]
    }
   ],
   "source": [
    "%pylab inline"
   ]
  },
  {
   "cell_type": "markdown",
   "metadata": {},
   "source": [
    "#### Load the downloaded dataset into the namespace"
   ]
  },
  {
   "cell_type": "code",
   "execution_count": 3,
   "metadata": {},
   "outputs": [],
   "source": [
    "from scipy.io import loadmat\n",
    "\n",
    "data = loadmat(\".\\mnist-original\")\n",
    "X    = data[\"data\"].T\n",
    "y    = data[\"label\"][0]\n",
    "del data"
   ]
  },
  {
   "cell_type": "markdown",
   "metadata": {},
   "source": [
    "We can see that we have "
   ]
  },
  {
   "cell_type": "code",
   "execution_count": 4,
   "metadata": {},
   "outputs": [
    {
     "data": {
      "text/plain": [
       "(70000, 784)"
      ]
     },
     "execution_count": 4,
     "metadata": {},
     "output_type": "execute_result"
    }
   ],
   "source": [
    "X.shape"
   ]
  },
  {
   "cell_type": "code",
   "execution_count": 5,
   "metadata": {},
   "outputs": [
    {
     "data": {
      "text/plain": [
       "(255, 0)"
      ]
     },
     "execution_count": 5,
     "metadata": {},
     "output_type": "execute_result"
    }
   ],
   "source": [
    "X.max(), X.min()"
   ]
  },
  {
   "cell_type": "code",
   "execution_count": 6,
   "metadata": {},
   "outputs": [],
   "source": [
    "X = X.astype(float64)\n",
    "y = y.astype(uint8)"
   ]
  },
  {
   "cell_type": "code",
   "execution_count": 7,
   "metadata": {},
   "outputs": [
    {
     "data": {
      "text/plain": [
       "array([0, 1, 2, 3, 4, 5, 6, 7, 8, 9], dtype=uint8)"
      ]
     },
     "execution_count": 7,
     "metadata": {},
     "output_type": "execute_result"
    }
   ],
   "source": [
    "unique(y)"
   ]
  },
  {
   "cell_type": "code",
   "execution_count": 8,
   "metadata": {},
   "outputs": [
    {
     "name": "stdout",
     "output_type": "stream",
     "text": [
      "6903 7877 6990 7141 6824 6313 6876 7293 6825 6958\n"
     ]
    }
   ],
   "source": [
    "print(*(sum(y==i) for i in range(10)))"
   ]
  },
  {
   "cell_type": "code",
   "execution_count": 9,
   "metadata": {},
   "outputs": [
    {
     "data": {
      "image/png": "[encoded data removed]",
      "text/plain": [
       "<Figure size 432x288 with 10 Axes>"
      ]
     },
     "metadata": {
      "needs_background": "light"
     },
     "output_type": "display_data"
    }
   ],
   "source": [
    "progress = set()\n",
    "\n",
    "while progress.__len__() < 10:\n",
    "    for i in range(y.__len__()):\n",
    "        if y[i] not in progress:\n",
    "            subplot(2, 5, int(y[i]) + 1)\n",
    "            imshow(X[i].reshape(28, 28), cmap=cm.gray_r)\n",
    "            axis('off')\n",
    "            progress.add(y[i])\n",
    "show()"
   ]
  },
  {
   "cell_type": "code",
   "execution_count": 10,
   "metadata": {},
   "outputs": [
    {
     "data": {
      "text/plain": [
       "(0, array([1., 0., 0., 0., 0., 0., 0., 0., 0., 0.]))"
      ]
     },
     "execution_count": 10,
     "metadata": {},
     "output_type": "execute_result"
    }
   ],
   "source": [
    "n = y.__len__()\n",
    "\n",
    "y_oh = zeros((n, 10))\n",
    "\n",
    "y_oh[range(n), y] = 1.\n",
    "\n",
    "y[0], y_oh[0]"
   ]
  },
  {
   "cell_type": "code",
   "execution_count": 11,
   "metadata": {},
   "outputs": [
    {
     "data": {
      "text/plain": [
       "14000"
      ]
     },
     "execution_count": 11,
     "metadata": {},
     "output_type": "execute_result"
    }
   ],
   "source": [
    "from sklearn.model_selection import train_test_split\n",
    "\n",
    "X_train, X_test, y_train, y_test, y_oh_train, y_oh_test = train_test_split(X, y, y_oh, test_size=0.2)#, random_state=117)\n",
    "\n",
    "y_test.__len__()"
   ]
  },
  {
   "cell_type": "code",
   "execution_count": 12,
   "metadata": {},
   "outputs": [
    {
     "data": {
      "text/plain": [
       "array([0, 1, 2, 3, 4, 5, 6, 7, 8, 9], dtype=uint8)"
      ]
     },
     "execution_count": 12,
     "metadata": {},
     "output_type": "execute_result"
    }
   ],
   "source": [
    "unique(y_test)"
   ]
  },
  {
   "cell_type": "code",
   "execution_count": 13,
   "metadata": {},
   "outputs": [],
   "source": [
    "from tqdm import tqdm"
   ]
  },
  {
   "cell_type": "code",
   "execution_count": 39,
   "metadata": {},
   "outputs": [],
   "source": [
    "class MultiLayerPerceptron:\n",
    "    \n",
    "    '''\n",
    "    \n",
    "    https://github.com/llSourcell/make_a_neural_net_live_demo/blob/master/demo.py\n",
    "    \n",
    "    https://beckernick.github.io/neural-network-scratch/\n",
    "    \n",
    "    A multilayer perceptron which uses an online gradient descent algorithm with \n",
    "    momentum to train the weights by back propagation\n",
    "    \n",
    "    Dependencies:\n",
    "        numpy\n",
    "        sklearn\n",
    "    \n",
    "    Args:\n",
    "        n_in          - int, the dimensionality of the input data, number of features\n",
    "        n_out         - int, the dimensionality of the target vector\n",
    "        hidden_layers - list, containing ints of desired weight array dimensions, \n",
    "                        n_hidden = len(hidden_layers) and will equal the number of\n",
    "                        desired hidden layers, when n_hidden == 1 the first two weight \n",
    "                        arrays will be of shape [n_in, n_hidden[0]] and [n_hidden[0], n_out], \n",
    "                        when len(n_hidden) == 2 the first two weight arrays will be of\n",
    "                        shape [n_in, n_hidden[0]] and [n_hidden[0], n_hidden[1]]\n",
    "        learning_rate - float, effects the step size of gradient decent\n",
    "        momentum      - float, effects the step size of gradient decent\n",
    "        max_iter      - int, number of epochs to train model\n",
    "        random_state  - hashable, to seed random number generator\n",
    "        \n",
    "    Attributes:\n",
    "        W             - dictionary, contains ndarrays of weights of the network,\n",
    "                        dimenionality is determined by n_in, n_out, n_hidden \n",
    "        b             - dictionary, containing ndarrays of biases\n",
    "        errors        - dictionary, containing ndarrays of calculated errors of the network\n",
    "        deltas        - dictionary, containing ndarrays, gradients of the decent\n",
    "        tanh          - method, numpy.tanh, calculates hyperbolic tangent (Not implemented)\n",
    "        \n",
    "    '''\n",
    "    \n",
    "    def __init__(\n",
    "                 self,\n",
    "                 n_in                = 10, \n",
    "                 n_out               = 1,\n",
    "                 hidden_layers       = [50, 50],\n",
    "                 learning_rate       = 1e-2, \n",
    "                 momentum            = 0.9,\n",
    "                 max_epoch           = 1,\n",
    "                 random_state        = None,\n",
    "                 network_id          = None,\n",
    "                 loss_function       = 'cross_entropy_loss',\n",
    "                 internal_activation = 'sigmoid',\n",
    "                 output_activation   = 'softmax',\n",
    "                 one_hot_output      = False,\n",
    "                 ):\n",
    "        \n",
    "        if random_state is not None:\n",
    "            seed(random_state)\n",
    "\n",
    "        dimensions = [n_in, *hidden_layers, n_out]\n",
    "        \n",
    "        self.n_hidden              = hidden_layers.__len__()\n",
    "        self.iter_forward          = list(zip(range(1, self.n_hidden), range(0, self.n_hidden - 1)))\n",
    "        self.iter_backward         = list(zip(range(self.n_hidden - 1, 0, -1), range(self.n_hidden, 1, -1)))\n",
    "        self.iter_update           = range(self.n_hidden)\n",
    "        self.max_epoch             = max_epoch\n",
    "        self.learning_rate         = learning_rate\n",
    "        self.momentum              = momentum\n",
    "        self.network_id            = network_id\n",
    "        self.epsilon               = finfo(longdouble).eps\n",
    "        self.tanh                  = tanh\n",
    "        self.internal_activation   = getattr(self, internal_activation)\n",
    "        self.activation_derivative = getattr(self, internal_activation + '_derivative')\n",
    "        self.output_activation     = getattr(self, output_activation)\n",
    "        self.loss_function         = getattr(self, loss_function)\n",
    "        self.one_hot_output        = one_hot_output\n",
    "        \n",
    "        n_layers         = self.n_hidden + 1\n",
    "        self.activations = [0] * n_layers\n",
    "        self.errors      = [0] * n_layers\n",
    "        self.deltas      = [0] * n_layers\n",
    "        \n",
    "        ####################################################################\n",
    "        #                    Initialize weights and biases                 #\n",
    "        ####################################################################\n",
    "\n",
    "        self.W           = []\n",
    "        self.b           = []\n",
    "        self.W_update    = []\n",
    "        self.b_update    = []\n",
    "        \n",
    "        lower_bound = -1. if internal_activation == 'tanh' else 0.\n",
    "\n",
    "        for i in range(n_layers):\n",
    "            self.W.append(uniform(lower_bound, 1., (dimensions[i], dimensions[i + 1])).astype(longdouble))\n",
    "            self.W_update.append(zeros(self.W[i].shape))\n",
    "            self.b.append(uniform(lower_bound, 1., (dimensions[i + 1])).astype(longdouble))\n",
    "            self.b_update.append(zeros(self.b[i].shape))\n",
    "        \n",
    "    def fit(self, X, y, **kwargs):\n",
    "        \n",
    "        sample_range  = range(X.shape[0])\n",
    "        #self.max_iter = kwargs.get('max_iter', self.max_iter)\n",
    "        self.error_cache = zeros(y.shape) # Will collect error for MSE calculation\n",
    "        \n",
    "        for i in tqdm(range(self.max_epoch)):\n",
    "            self.error_cache *= 0.\n",
    "            \n",
    "            for j in range(self.n_hidden + 1):\n",
    "                self.W_update[j] *= 0.\n",
    "                self.b_update[j] *= 0.\n",
    "\n",
    "            for j in sample_range:\n",
    "                self.x, self.y = X[j], y[j]\n",
    "                self.feedforward()        \n",
    "                self.backpropagation()\n",
    "                self.update()\n",
    "                \n",
    "                self.error_cache[j] = self.errors[self.n_hidden]\n",
    "                \n",
    "                #self.entropy_cache[j] = self.cross_entropy()\n",
    "                                      \n",
    "            if i % 10 == 0: # Print out progress\n",
    "                \n",
    "                # Mean squared error is a simple and stable calculation for monitoring\n",
    "                # learning progress. Cross entropy is perhaps a better indicator for\n",
    "                # binary classification.\n",
    "                \n",
    "                self.error_out = mean(self.error_cache ** 2)\n",
    "                \n",
    "                print('Epochs: %s, MSE: %s' % (i, mean(self.errors[self.n_hidden]) ** 2))\n",
    "\n",
    "    def predict_proba(self, X):\n",
    "        '''\n",
    "        Will return a vector of numbers in the interval [0, 1]. If the output activation function\n",
    "        is softmax then the numbers will be probabilities i.e. sum to 1.\n",
    "        '''\n",
    "        self.x = X\n",
    "        # Simply feed x forwards through the network\n",
    "        self.feedforward()\n",
    "        # Creates a boolean array and converts elements to 0 or 1\n",
    "        return self.activations[self.n_hidden]\n",
    "    \n",
    "    def predict(self, X, output_one_hot=None):\n",
    "        '''\n",
    "        Will return predictions. Either base 10 numerical or one hot encoding.\n",
    "        '''\n",
    "        if output_one_hot is not None:\n",
    "            self.output_one_hot = output_one_hot\n",
    "        activation = self.predict_proba(X)\n",
    "        output = argmax(activation, axis=1)\n",
    "        if self.output_one_hot:\n",
    "            one_hot = zeros(activation.shape)\n",
    "            one_hot[range(activation.__len__()) , output] = 1.\n",
    "            output = one_hot\n",
    "        return output\n",
    "    \n",
    "    def feedforward(self):\n",
    "        \n",
    "        ###################################################################\n",
    "        #                           Feedforward                          #\n",
    "        ###################################################################\n",
    "        \n",
    "        # We will collect the network layers and activations\n",
    "\n",
    "        # input layer\n",
    "        self.activations[0] = self.internal_activation(dot(self.x, self.W[0]) + self.b[0])\n",
    "        # Move the signal from x through the network\n",
    "        for i, j in self.iter_forward:\n",
    "            self.activations[i] = self.internal_activation(dot(self.activations[j], self.W[i]) + self.b[i])\n",
    "                               \n",
    "        # output layer\n",
    "            \n",
    "        self.activations[self.n_hidden] = self.output_activation(\n",
    "                                                                 dot(self.activations[self.n_hidden - 1], \\\n",
    "                                                                 self.W[self.n_hidden]) \\\n",
    "                                                                 + self.b[self.n_hidden]\n",
    "                                                                 )\n",
    "                       \n",
    "    def backpropagation(self):\n",
    "        \n",
    "        ###################################################################\n",
    "        #                           Backpropagation                      #\n",
    "        ###################################################################\n",
    "        \n",
    "        # We will collect the errors \n",
    "                       \n",
    "#         self.errors = {}\n",
    "#         self.deltas = {}\n",
    "        \n",
    "        # We travel in reverse through the network, starting at the final layer\n",
    "                       \n",
    "        self.errors[self.n_hidden] = self.loss_function(self.y, self.activations[self.n_hidden])\n",
    "        self.deltas[self.n_hidden] = outer(self.activations[self.n_hidden], self.errors[self.n_hidden])\n",
    "        \n",
    "        # Now propagate error backwards through the network\n",
    "        \n",
    "        for i, j in self.iter_backward:\n",
    "            self.errors[i] = self.activation_derivative(self.activations[i]) * dot(self.W[j], self.errors[j])\n",
    "            self.deltas[i] = outer(self.activations[i], self.errors[i])\n",
    "            \n",
    "        # The error of the first layer\n",
    "                         \n",
    "        self.errors[0] = self.activation_derivative(self.activations[0]) * dot(self.W[1], self.errors[1])\n",
    "        self.deltas[0] = outer(self.x, self.errors[0])\n",
    "        \n",
    "    def update(self):\n",
    "        \n",
    "        ######################################################################\n",
    "        #                       Update weights and biases                    #\n",
    "        ######################################################################\n",
    "        \n",
    "        for i in self.iter_update:\n",
    "            \n",
    "            # The update cache is updated\n",
    "            self.W_update[i] = self.W_update[i] \\\n",
    "                               * self.momentum \\\n",
    "                               + self.learning_rate \\\n",
    "                               * self.deltas[i]\n",
    "            \n",
    "            self.b_update[i] = self.b_update[i] \\\n",
    "                               * self.momentum \\\n",
    "                               + self.learning_rate \\\n",
    "                               * self.errors[i]\n",
    "            \n",
    "            # The parameters are updated from the update cache\n",
    "            \n",
    "            self.W[i] -= self.W_update[i]\n",
    "            self.b[i] -= self.b_update[i]\n",
    "            \n",
    "    ######################################################################\n",
    "    #                        Activation functions                        #\n",
    "    ######################################################################\n",
    "            \n",
    "    def sigmoid(self, x):\n",
    "        '''\n",
    "        Returns the sigmoid of x\n",
    "        '''\n",
    "        return 1. / (1. + exp(-x))\n",
    "    \n",
    "    def sigmoid_derivative(self, x):\n",
    "        '''\n",
    "        Returns derivative of sigmoid(x)\n",
    "        ''' \n",
    "        return x * (1. - x)\n",
    "    \n",
    "    def relu(self, x):\n",
    "        '''\n",
    "        Returns relu of x\n",
    "        '''\n",
    "        return maximum(0., x)\n",
    "\n",
    "    def relu_derivative(self, x):\n",
    "        '''\n",
    "        Returns derivative of relu(x)\n",
    "        '''\n",
    "        x[x <= 0.] = 0.\n",
    "        return x\n",
    "    \n",
    "    def softmax(self, x):\n",
    "        #print(x.shape)\n",
    "        ex = exp(x)\n",
    "        return ex / ex.sum()\n",
    "    \n",
    "#     def tanh(self, x):\n",
    "#         return sinh(x) / cosh(x)\n",
    "    \n",
    "    def tanh_derivative(self, tanhx):\n",
    "        '''\n",
    "        Returns derivative of tanh(x)\n",
    "        '''\n",
    "        return  1. - tanhx ** 2.\n",
    "    \n",
    "    def error_loss(self, y, y_hat):\n",
    "        return y_hat - y\n",
    "    \n",
    "    def cross_entropy_loss(self, y, y_hat):\n",
    "        \n",
    "        y_hat = clip(y, self.epsilon, 1. - self.epsilon)\n",
    "    \n",
    "        return y * log(y_hat) + (1. - y) * log(1. - y_hat)"
   ]
  },
  {
   "cell_type": "code",
   "execution_count": 40,
   "metadata": {},
   "outputs": [],
   "source": [
    "from sklearn.preprocessing import StandardScaler\n",
    "scaler = StandardScaler()\n",
    "S_tr = scaler.fit_transform(X_train)"
   ]
  },
  {
   "cell_type": "code",
   "execution_count": 41,
   "metadata": {},
   "outputs": [
    {
     "name": "stderr",
     "output_type": "stream",
     "text": [
      "  0%|                                                                                            | 0/1 [00:00<?, ?it/s]"
     ]
    },
    {
     "name": "stdout",
     "output_type": "stream",
     "text": [
      "Epochs: 0, MSE: 4.930380657631326e-32\n"
     ]
    },
    {
     "name": "stderr",
     "output_type": "stream",
     "text": [
      "100%|████████████████████████████████████████████████████████████████████████████████████| 1/1 [00:53<00:00, 53.33s/it]\n"
     ]
    }
   ],
   "source": [
    "clf = MultiLayerPerceptron(\n",
    "                           n_in=784, \n",
    "                           n_out=10, \n",
    "                           max_epoch=1, \n",
    "                           momentum=0.9, \n",
    "                           learning_rate=1e-3, \n",
    "                           hidden_layers=[150],\n",
    "                           network_id='test',\n",
    "                           random_state=48464\n",
    "                           )\n",
    "\n",
    "clf.fit(S_tr, y_oh_train)"
   ]
  },
  {
   "cell_type": "code",
   "execution_count": 42,
   "metadata": {},
   "outputs": [],
   "source": [
    "from sklearn.metrics import confusion_matrix, classification_report\n",
    "\n",
    "def cross_entropy(t, y, epsilon=__import__('sys').float_info.epsilon):\n",
    "    \"\"\"\n",
    "    \n",
    "    Computes cross entropy between predictions and targets:\n",
    "    \n",
    "    f(t, y) = −(tlog(y) + (1 − t)log(1 − y)\n",
    "    \n",
    "    Args:\n",
    "        predictions - array-like\n",
    "        targets     - array-like\n",
    "        epsilon     - float, parameter to avoid log(0)\n",
    "        \n",
    "    Returns:\n",
    "        float\n",
    "    \n",
    "    \"\"\"\n",
    "\n",
    "    y = clip(y, epsilon, 1 - epsilon)\n",
    "    \n",
    "    return mean( -(t * log(y) + (1 - t) * log(1 - y)) )\n",
    "\n",
    "def display_confusion_matrix(\n",
    "                             targets,\n",
    "                             predictions,\n",
    "                             labels=None,\n",
    "                             normalize=False,\n",
    "                             title_string='Confusion matrix',\n",
    "                             cmap=cm.Blues\n",
    "                             ):\n",
    "    \"\"\"\n",
    "    This function prints and plots the confusion matrix.\n",
    "    Normalization can be applied by setting `normalize=True`.\n",
    "    \"\"\"\n",
    "    if labels is None:\n",
    "        labels = list(unique(targets))\n",
    "    \n",
    "    matrix = confusion_matrix(targets, predictions, labels)\n",
    "    \n",
    "    if normalize:\n",
    "        matrix = matrix.astype('float') / matrix.sum(axis=1)[:, np.newaxis]\n",
    "        print(\"Normalized confusion matrix\")\n",
    "    else:\n",
    "        print('Confusion matrix, without normalization')\n",
    "    figure(figsize=(9, 6))\n",
    "    style.use('seaborn-white')\n",
    "    imshow(matrix, interpolation='nearest', cmap=cmap)\n",
    "    title(title_string)\n",
    "    colorbar()\n",
    "    tick_marks = arange(labels.__len__())\n",
    "    xticks(tick_marks, labels, rotation=45)\n",
    "    yticks(tick_marks, labels)\n",
    "\n",
    "    fmt = '.2f' if normalize else 'd'\n",
    "    thresh = matrix.max() / 2.\n",
    "    for i, j in __import__('itertools').product(range(matrix.shape[0]), range(matrix.shape[1])):\n",
    "        text(j, i, format(matrix[i, j], fmt),\n",
    "                 horizontalalignment=\"center\",\n",
    "                 color=\"white\" if matrix[i, j] > thresh else \"black\")\n",
    "\n",
    "    ylabel('True label', fontsize=13)\n",
    "    xlabel('Predicted label', fontsize=13)\n",
    "    rc('font', size=13)          # controls default text sizes\n",
    "    rc('axes', titlesize=13)\n",
    "    rc('axes', labelsize=13)     # fontsize of the x and y labels\n",
    "    rc('xtick', labelsize=13)    # fontsize of the tick labels\n",
    "    rc('ytick', labelsize=13)    # fontsize of the tick labels\n",
    "    rc('legend', fontsize=13)    # legend fontsize\n",
    "    tight_layout()\n",
    "    show()\n"
   ]
  },
  {
   "cell_type": "code",
   "execution_count": 43,
   "metadata": {},
   "outputs": [
    {
     "name": "stdout",
     "output_type": "stream",
     "text": [
      "Confusion matrix, without normalization\n"
     ]
    },
    {
     "data": {
      "image/png": "[encoded data removed]",
      "text/plain": [
       "<Figure size 648x432 with 2 Axes>"
      ]
     },
     "metadata": {},
     "output_type": "display_data"
    },
    {
     "name": "stdout",
     "output_type": "stream",
     "text": [
      "              precision    recall  f1-score   support\n",
      "\n",
      "           0       0.19      0.85      0.31      1376\n",
      "           1       0.02      0.00      0.01      1609\n",
      "           2       0.17      0.01      0.02      1400\n",
      "           3       0.09      0.02      0.03      1464\n",
      "           4       0.16      0.03      0.05      1343\n",
      "           5       0.07      0.03      0.04      1257\n",
      "           6       0.19      0.00      0.01      1382\n",
      "           7       0.12      0.55      0.20      1404\n",
      "           8       0.16      0.01      0.01      1340\n",
      "           9       0.10      0.01      0.01      1425\n",
      "\n",
      "    accuracy                           0.15     14000\n",
      "   macro avg       0.13      0.15      0.07     14000\n",
      "weighted avg       0.13      0.15      0.07     14000\n",
      "\n"
     ]
    }
   ],
   "source": [
    "S_te = scaler.transform(X_test)\n",
    "predictions = clf.predict(S_te, output_one_hot=False)\n",
    "#predictions = argmax(predictions, axis=1)\n",
    "display_confusion_matrix(y_test, predictions)\n",
    "print(classification_report(y_test, predictions))"
   ]
  },
  {
   "cell_type": "code",
   "execution_count": null,
   "metadata": {},
   "outputs": [],
   "source": [
    "S_te = scaler.transform(X_test)\n",
    "predictions = clf.predict(S_te)\n",
    "display_confusion_matrix(y_test, predictions)\n",
    "print(classification_report(y_test, predictions))"
   ]
  },
  {
   "cell_type": "code",
   "execution_count": 34,
   "metadata": {},
   "outputs": [
    {
     "data": {
      "text/plain": [
       "(array([0., 0., 0., 0., 0., 0.]), [0.0, 0.0, 0.0, 0.0, 0.0, 0.0])"
      ]
     },
     "execution_count": 34,
     "metadata": {},
     "output_type": "execute_result"
    }
   ],
   "source": [
    "tile([0.0, 0.], 2 + 1), [0., 0.] * 3"
   ]
  },
  {
   "cell_type": "code",
   "execution_count": 30,
   "metadata": {},
   "outputs": [
    {
     "name": "stdout",
     "output_type": "stream",
     "text": [
      "(1, 2) (2, 3) (3, 4) (4, 5)\n",
      "(1, 2) (2, 3) (3, 4) (4, 5)\n",
      "(1, 2) (2, 3) (3, 4) (4, 5)\n"
     ]
    }
   ],
   "source": [
    "j = list(zip([1, 2, 3, 4], [2, 3, 4, 5]))\n",
    "\n",
    "print(*(i for i in j))\n",
    "print(*(i for i in j))\n",
    "print(*(i for i in j))"
   ]
  },
  {
   "cell_type": "code",
   "execution_count": 29,
   "metadata": {},
   "outputs": [
    {
     "data": {
      "text/plain": [
       "array([0.39069383, 0.28943311, 0.31987306])"
      ]
     },
     "execution_count": 29,
     "metadata": {},
     "output_type": "execute_result"
    }
   ],
   "source": [
    "x = array([1, 0.7, 0.8])\n",
    "\n",
    "e ** x / sum(e ** x)"
   ]
  },
  {
   "cell_type": "code",
   "execution_count": 25,
   "metadata": {},
   "outputs": [
    {
     "data": {
      "text/plain": [
       "1"
      ]
     },
     "execution_count": 25,
     "metadata": {},
     "output_type": "execute_result"
    }
   ],
   "source": [
    "argmax(array([0.1, 0.9, 0.4, 0.2]))"
   ]
  },
  {
   "cell_type": "code",
   "execution_count": 87,
   "metadata": {},
   "outputs": [
    {
     "ename": "ValueError",
     "evalue": "operands could not be broadcast together with shapes (2,3) (2,) ",
     "output_type": "error",
     "traceback": [
      "\u001b[1;31m---------------------------------------------------------------------------\u001b[0m",
      "\u001b[1;31mValueError\u001b[0m                                Traceback (most recent call last)",
      "\u001b[1;32m<ipython-input-87-4e7b5d752c1d>\u001b[0m in \u001b[0;36m<module>\u001b[1;34m\u001b[0m\n\u001b[0;32m      9\u001b[0m \u001b[1;33m\u001b[0m\u001b[0m\n\u001b[0;32m     10\u001b[0m \u001b[1;33m\u001b[0m\u001b[0m\n\u001b[1;32m---> 11\u001b[1;33m \u001b[0msoftmax\u001b[0m\u001b[1;33m(\u001b[0m\u001b[0mx\u001b[0m\u001b[1;33m)\u001b[0m\u001b[1;33m\u001b[0m\u001b[1;33m\u001b[0m\u001b[0m\n\u001b[0m",
      "\u001b[1;32m<ipython-input-87-4e7b5d752c1d>\u001b[0m in \u001b[0;36msoftmax\u001b[1;34m(x)\u001b[0m\n\u001b[0;32m      5\u001b[0m \u001b[1;32mdef\u001b[0m \u001b[0msoftmax\u001b[0m\u001b[1;33m(\u001b[0m\u001b[0mx\u001b[0m\u001b[1;33m)\u001b[0m\u001b[1;33m:\u001b[0m\u001b[1;33m\u001b[0m\u001b[1;33m\u001b[0m\u001b[0m\n\u001b[0;32m      6\u001b[0m     \u001b[1;34m\"\"\"Compute softmax values for each sets of scores in x.\"\"\"\u001b[0m\u001b[1;33m\u001b[0m\u001b[1;33m\u001b[0m\u001b[0m\n\u001b[1;32m----> 7\u001b[1;33m     \u001b[0me_x\u001b[0m \u001b[1;33m=\u001b[0m \u001b[0mexp\u001b[0m\u001b[1;33m(\u001b[0m\u001b[0mx\u001b[0m \u001b[1;33m-\u001b[0m \u001b[0mx\u001b[0m\u001b[1;33m.\u001b[0m\u001b[0mmax\u001b[0m\u001b[1;33m(\u001b[0m\u001b[0maxis\u001b[0m\u001b[1;33m=\u001b[0m\u001b[1;36m1\u001b[0m\u001b[1;33m)\u001b[0m\u001b[1;33m)\u001b[0m\u001b[1;33m\u001b[0m\u001b[1;33m\u001b[0m\u001b[0m\n\u001b[0m\u001b[0;32m      8\u001b[0m     \u001b[1;32mreturn\u001b[0m \u001b[0me_x\u001b[0m \u001b[1;33m/\u001b[0m \u001b[0me_x\u001b[0m\u001b[1;33m.\u001b[0m\u001b[0msum\u001b[0m\u001b[1;33m(\u001b[0m\u001b[0maxis\u001b[0m\u001b[1;33m=\u001b[0m\u001b[1;36m0\u001b[0m\u001b[1;33m)\u001b[0m \u001b[1;31m# only difference\u001b[0m\u001b[1;33m\u001b[0m\u001b[1;33m\u001b[0m\u001b[0m\n\u001b[0;32m      9\u001b[0m \u001b[1;33m\u001b[0m\u001b[0m\n",
      "\u001b[1;31mValueError\u001b[0m: operands could not be broadcast together with shapes (2,3) (2,) "
     ]
    }
   ],
   "source": [
    "x = array([[1, 0.7, 0.8],\n",
    "           [2, 0.5, 4]])\n",
    "\n",
    "# correct solution:\n",
    "def softmax(x):\n",
    "    \"\"\"Compute softmax values for each sets of scores in x.\"\"\"\n",
    "    e_x = exp(x - x.max(axis=1))\n",
    "    return e_x / e_x.sum(axis=0) # only difference\n",
    "\n",
    "\n",
    "softmax(x)"
   ]
  },
  {
   "cell_type": "code",
   "execution_count": 20,
   "metadata": {},
   "outputs": [],
   "source": [
    "def softmax(x):\n",
    "    ex = exp(x)\n",
    "    return ex / sum(ex, axis=0)\n",
    "\n",
    "def softmax(x, axis=1):\n",
    "    x = x - x.max(axis=axis, keepdims=True)\n",
    "    y = exp(x)\n",
    "    return y / y.sum(axis=axis, keepdims=True)"
   ]
  },
  {
   "cell_type": "code",
   "execution_count": 21,
   "metadata": {},
   "outputs": [],
   "source": [
    "from scipy.special import softmax as sm"
   ]
  },
  {
   "cell_type": "code",
   "execution_count": 27,
   "metadata": {},
   "outputs": [
    {
     "data": {
      "text/plain": [
       "(array([[2.39694479e-01, 3.23553704e-01, 4.36751817e-01],\n",
       "        [3.45645578e-02, 9.37136376e-01, 2.82990665e-02],\n",
       "        [2.20249736e-01, 2.43413603e-01, 5.36336662e-01],\n",
       "        [1.67011429e-05, 1.67011429e-05, 9.99966598e-01]]),\n",
       " array([0.23969448, 0.3235537 , 0.43675182]))"
      ]
     },
     "execution_count": 27,
     "metadata": {},
     "output_type": "execute_result"
    }
   ],
   "source": [
    "x = array([[0.2, 0.5, 0.8],\n",
    "           [0.7, 4, 0.5],\n",
    "           [0.1, 0.2, 0.99],\n",
    "           [34, 34, 45]])\n",
    "\n",
    "a = softmax(x, axis=1)\n",
    "b = sm(x[0])\n",
    "\n",
    "a, b"
   ]
  },
  {
   "cell_type": "code",
   "execution_count": 1,
   "metadata": {},
   "outputs": [],
   "source": [
    "class O:\n",
    "    def __init__(self, ):\n",
    "        self.x = 9\n",
    "\n",
    "a = O()\n",
    "b = O()\n",
    "c = O()\n",
    "        \n",
    "x = [a]\n",
    "\n",
    "\n",
    "\n"
   ]
  },
  {
   "cell_type": "code",
   "execution_count": 2,
   "metadata": {},
   "outputs": [
    {
     "data": {
      "text/plain": [
       "<__main__.O at 0x2535003a898>"
      ]
     },
     "execution_count": 2,
     "metadata": {},
     "output_type": "execute_result"
    }
   ],
   "source": [
    "x[0]"
   ]
  },
  {
   "cell_type": "code",
   "execution_count": 60,
   "metadata": {},
   "outputs": [
    {
     "data": {
      "text/plain": [
       "0"
      ]
     },
     "execution_count": 60,
     "metadata": {},
     "output_type": "execute_result"
    }
   ],
   "source": [
    "def f(x):\n",
    "    return 1 if x is 4 else 0\n",
    "\n",
    "f(0)"
   ]
  },
  {
   "cell_type": "code",
   "execution_count": 105,
   "metadata": {},
   "outputs": [
    {
     "name": "stdout",
     "output_type": "stream",
     "text": [
      "[[ 5 10 15 20]\n",
      " [25 30 20 15]]\n",
      "[[1 2 3 4]\n",
      " [5 6 4 3]]\n"
     ]
    }
   ],
   "source": [
    "class o:\n",
    "    def __init__(self):\n",
    "        a = 7\n",
    "    def f(self, x):\n",
    "        return x * 5\n",
    "    \n",
    "y = array([[1, 2, 3, 4],\n",
    "           [5, 6, 4, 3]])\n",
    "\n",
    "a = o()\n",
    "\n",
    "print(a.f(y))\n",
    "print(y)"
   ]
  },
  {
   "cell_type": "code",
   "execution_count": 107,
   "metadata": {},
   "outputs": [
    {
     "data": {
      "text/plain": [
       "array([[1., 2., 3., 4.],\n",
       "       [5., 6., 4., 3.]])"
      ]
     },
     "execution_count": 107,
     "metadata": {},
     "output_type": "execute_result"
    }
   ],
   "source": [
    "maximum(0., y)"
   ]
  },
  {
   "cell_type": "code",
   "execution_count": 47,
   "metadata": {},
   "outputs": [
    {
     "data": {
      "text/plain": [
       "numpy.float64"
      ]
     },
     "execution_count": 47,
     "metadata": {},
     "output_type": "execute_result"
    }
   ],
   "source": [
    "longdouble"
   ]
  },
  {
   "cell_type": "code",
   "execution_count": null,
   "metadata": {},
   "outputs": [],
   "source": []
  }
 ],
 "metadata": {
  "kernelspec": {
   "display_name": "NLP37",
   "language": "python",
   "name": "nlp37"
  },
  "language_info": {
   "codemirror_mode": {
    "name": "ipython",
    "version": 3
   },
   "file_extension": ".py",
   "mimetype": "text/x-python",
   "name": "python",
   "nbconvert_exporter": "python",
   "pygments_lexer": "ipython3",
   "version": "3.7.1"
  }
 },
 "nbformat": 4,
 "nbformat_minor": 4
}
