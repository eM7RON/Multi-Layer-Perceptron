{
 "cells": [
  {
   "cell_type": "markdown",
   "metadata": {},
   "source": [
    "## Neural Networks\n",
    "\n",
    "In this notebook we will code a neural network from scratch and then use it to solve an character recognition task"
   ]
  },
  {
   "cell_type": "markdown",
   "metadata": {},
   "source": [
    "#### Use following commands in anaconda prompt to replicate this environment:\n",
    "\n",
    "conda create -n ML python=3.7.5 numpy scipy scikit-learn matplotlib ipykernel \n",
    "\n",
    "conda activate ML\n",
    "\n",
    "conda install -c conda-forge kaggle\n",
    "\n",
    "python -m ipykernel install --user --name ML --display-name ML"
   ]
  },
  {
   "cell_type": "markdown",
   "metadata": {},
   "source": [
    "#### Should produce the environment below"
   ]
  },
  {
   "cell_type": "code",
   "execution_count": 1,
   "metadata": {},
   "outputs": [
    {
     "name": "stdout",
     "output_type": "stream",
     "text": [
      "3.7.5 (default, Oct 31 2019, 15:18:51) [MSC v.1916 64 bit (AMD64)]\n",
      "# packages in environment at C:\\Anaconda3\\envs\\ML:\n",
      "#\n",
      "# Name                    Version                   Build  Channel\n",
      "backcall                  0.1.0                    py37_0  \n",
      "blas                      1.0                         mkl  \n",
      "ca-certificates           2019.11.28           hecc5488_0    conda-forge\n",
      "certifi                   2019.11.28               py37_0    conda-forge\n",
      "cffi                      1.13.2           py37hb32ad35_0    conda-forge\n",
      "chardet                   3.0.4                 py37_1003    conda-forge\n",
      "colorama                  0.4.3                      py_0  \n",
      "cryptography              2.8              py37hb32ad35_1    conda-forge\n",
      "cycler                    0.10.0                   py37_0  \n",
      "decorator                 4.4.1                      py_0  \n",
      "freetype                  2.9.1                ha9979f8_1  \n",
      "icc_rt                    2019.0.0             h0cc432a_1  \n",
      "icu                       58.2                 ha66f8fd_1  \n",
      "idna                      2.8                   py37_1000    conda-forge\n",
      "intel-openmp              2019.4                      245  \n",
      "ipykernel                 5.1.3            py37h39e3cac_0  \n",
      "ipython                   7.10.2           py37h39e3cac_0  \n",
      "ipython_genutils          0.2.0                    py37_0  \n",
      "jedi                      0.15.1                   py37_0  \n",
      "joblib                    0.14.1                     py_0  \n",
      "jpeg                      9b                   hb83a4c4_2  \n",
      "jupyter_client            5.3.4                    py37_0  \n",
      "jupyter_core              4.6.1                    py37_0  \n",
      "kaggle                    1.5.6                    py37_1    conda-forge\n",
      "kiwisolver                1.1.0            py37ha925a31_0  \n",
      "libpng                    1.6.37               h2a8f88b_0  \n",
      "libsodium                 1.0.16               h9d3ae62_0  \n",
      "matplotlib                3.1.1            py37hc8f65d3_0  \n",
      "mkl                       2019.4                      245  \n",
      "mkl-service               2.3.0            py37hb782905_0  \n",
      "mkl_fft                   1.0.15           py37h14836fe_0  \n",
      "mkl_random                1.1.0            py37h675688f_0  \n",
      "numpy                     1.17.4           py37h4320e6b_0  \n",
      "numpy-base                1.17.4           py37hc3f5095_0  \n",
      "openssl                   1.1.1d               hfa6e2cd_0    conda-forge\n",
      "parso                     0.5.2                      py_0  \n",
      "pickleshare               0.7.5                    py37_0  \n",
      "pip                       19.3.1                   py37_0  \n",
      "prompt_toolkit            3.0.2                      py_0  \n",
      "pycparser                 2.19                     py37_1    conda-forge\n",
      "pygments                  2.5.2                      py_0  \n",
      "pyopenssl                 19.1.0                   py37_0    conda-forge\n",
      "pyparsing                 2.4.5                      py_0  \n",
      "pyqt                      5.9.2            py37h6538335_2  \n",
      "pysocks                   1.7.1                    py37_0    conda-forge\n",
      "python                    3.7.5                h8c8aaf0_0  \n",
      "python-dateutil           2.8.1                      py_0  \n",
      "python-slugify            1.2.6                      py_0    conda-forge\n",
      "pytz                      2019.3                     py_0  \n",
      "pywin32                   227              py37he774522_0  \n",
      "pyzmq                     18.1.0           py37ha925a31_0  \n",
      "qt                        5.9.7            vc14h73c81de_0  \n",
      "requests                  2.22.0                   py37_1    conda-forge\n",
      "scikit-learn              0.22             py37h6288b17_0  \n",
      "scipy                     1.3.2            py37h29ff71c_0  \n",
      "setuptools                42.0.2                   py37_0  \n",
      "sip                       4.19.8           py37h6538335_0  \n",
      "six                       1.13.0                   py37_0  \n",
      "sqlite                    3.30.1               he774522_0  \n",
      "tornado                   6.0.3            py37he774522_0  \n",
      "tqdm                      4.41.1                     py_0    conda-forge\n",
      "traitlets                 4.3.3                    py37_0  \n",
      "unidecode                 1.1.1                      py_0    conda-forge\n",
      "urllib3                   1.24.3                   py37_0    conda-forge\n",
      "vc                        14.1                 h0510ff6_4  \n",
      "vs2015_runtime            14.16.27012          hf0eaf9b_1  \n",
      "wcwidth                   0.1.7                    py37_0  \n",
      "wheel                     0.33.6                   py37_0  \n",
      "win_inet_pton             1.1.0                    py37_0    conda-forge\n",
      "wincertstore              0.2                      py37_0  \n",
      "zeromq                    4.3.1                h33f27b4_3  \n",
      "zlib                      1.2.11               h62dcd97_3  \n"
     ]
    }
   ],
   "source": [
    "print(__import__('sys').version)\n",
    "!conda list -n ML"
   ]
  },
  {
   "cell_type": "markdown",
   "metadata": {},
   "source": [
    "#### Load up a dataset\n",
    "\n",
    "Kaggle.com has many datasets which are freely available. Simply make an account and sign in. Click on your profile image in the top-right corner. This may be blank if you have not added one. A drop-down box will appear. Select 'My Account', which will load up your account settings. Scroll down untill you see your API options and select 'Create New API Token'. Save this json file to your '.\\kaggle' directory. My default on Windows 10 was 'C:\\Users\\Simon\\\\.kaggle'\n",
    "\n",
    "The following code should download and unpack the MNIST dataset from kaggle.com; which is a well known character recognition dataset."
   ]
  },
  {
   "cell_type": "code",
   "execution_count": 1,
   "metadata": {},
   "outputs": [],
   "source": [
    "import kaggle, os\n",
    "kaggle.api.authenticate()\n",
    "kaggle.api.dataset_download_files('avnishnish/mnist-original', path=os.getcwd(), unzip=True) "
   ]
  },
  {
   "cell_type": "markdown",
   "metadata": {},
   "source": [
    "Import numpy and matplotlib libraries. \n",
    "The 'inline' argument sets matplotlib figures to display in the notebook rather than in a separate window. "
   ]
  },
  {
   "cell_type": "code",
   "execution_count": 1,
   "metadata": {},
   "outputs": [
    {
     "name": "stdout",
     "output_type": "stream",
     "text": [
      "Populating the interactive namespace from numpy and matplotlib\n"
     ]
    }
   ],
   "source": [
    "%pylab inline"
   ]
  },
  {
   "cell_type": "markdown",
   "metadata": {},
   "source": [
    "#### Load the downloaded dataset into the namespace"
   ]
  },
  {
   "cell_type": "code",
   "execution_count": 2,
   "metadata": {},
   "outputs": [],
   "source": [
    "from scipy.io import loadmat\n",
    "\n",
    "data = loadmat(\".\\mnist-original\")\n",
    "X    = data[\"data\"].T\n",
    "y    = data[\"label\"][0]\n",
    "del data"
   ]
  },
  {
   "cell_type": "markdown",
   "metadata": {},
   "source": [
    "We can see that we have 70k samples with 784 features"
   ]
  },
  {
   "cell_type": "code",
   "execution_count": 3,
   "metadata": {},
   "outputs": [
    {
     "data": {
      "text/plain": [
       "(70000, 784)"
      ]
     },
     "execution_count": 3,
     "metadata": {},
     "output_type": "execute_result"
    }
   ],
   "source": [
    "X.shape"
   ]
  },
  {
   "cell_type": "markdown",
   "metadata": {},
   "source": [
    "Each sample is essentially a reshaped 28x28 pixel grey scale image i.e. a 24-bit image that has been flattened into a single 8-bit channel. This means the minimum and maximum values are 0 and 255 respectively. Any negative values or values greater than 255 would be invalid. A quick check looks good:"
   ]
  },
  {
   "cell_type": "code",
   "execution_count": 4,
   "metadata": {},
   "outputs": [
    {
     "data": {
      "text/plain": [
       "(0, 255)"
      ]
     },
     "execution_count": 4,
     "metadata": {},
     "output_type": "execute_result"
    }
   ],
   "source": [
    "X.min(), X.max()"
   ]
  },
  {
   "cell_type": "markdown",
   "metadata": {},
   "source": [
    "We can also see there is no nan data e.g. 'inf'"
   ]
  },
  {
   "cell_type": "code",
   "execution_count": 5,
   "metadata": {},
   "outputs": [
    {
     "data": {
      "text/plain": [
       "0"
      ]
     },
     "execution_count": 5,
     "metadata": {},
     "output_type": "execute_result"
    }
   ],
   "source": [
    "sum(isnan(X))"
   ]
  },
  {
   "cell_type": "code",
   "execution_count": 6,
   "metadata": {},
   "outputs": [],
   "source": [
    "X = X.astype(float64)\n",
    "y = y.astype(uint8)"
   ]
  },
  {
   "cell_type": "markdown",
   "metadata": {},
   "source": [
    "We can see that there are 10 unique classes"
   ]
  },
  {
   "cell_type": "code",
   "execution_count": 7,
   "metadata": {},
   "outputs": [
    {
     "data": {
      "text/plain": [
       "array([0, 1, 2, 3, 4, 5, 6, 7, 8, 9], dtype=uint8)"
      ]
     },
     "execution_count": 7,
     "metadata": {},
     "output_type": "execute_result"
    }
   ],
   "source": [
    "unique(y)"
   ]
  },
  {
   "cell_type": "markdown",
   "metadata": {},
   "source": [
    "Each class is roughly equally representated in the data. We won't be looking at balancing datasets in this notebook."
   ]
  },
  {
   "cell_type": "code",
   "execution_count": 8,
   "metadata": {},
   "outputs": [
    {
     "name": "stdout",
     "output_type": "stream",
     "text": [
      "0: 6903\n",
      "1: 7877\n",
      "2: 6990\n",
      "3: 7141\n",
      "4: 6824\n",
      "5: 6313\n",
      "6: 6876\n",
      "7: 7293\n",
      "8: 6825\n",
      "9: 6958\n"
     ]
    }
   ],
   "source": [
    "print(*(f'{i}: {sum(y==i)}' for i in range(10)), sep='\\n')"
   ]
  },
  {
   "cell_type": "code",
   "execution_count": 9,
   "metadata": {},
   "outputs": [
    {
     "data": {
      "image/png": "[encoded data removed]",
      "text/plain": [
       "<Figure size 432x288 with 10 Axes>"
      ]
     },
     "metadata": {
      "needs_background": "light"
     },
     "output_type": "display_data"
    }
   ],
   "source": [
    "progress = set()\n",
    "\n",
    "while progress.__len__() < 10:\n",
    "    for i in range(y.__len__()):\n",
    "        if y[i] not in progress:\n",
    "            subplot(2, 5, int(y[i]) + 1)\n",
    "            imshow(X[i].reshape(28, 28), cmap=cm.gray_r)\n",
    "            axis('off')\n",
    "            progress.add(y[i])\n",
    "show()"
   ]
  },
  {
   "cell_type": "markdown",
   "metadata": {},
   "source": [
    "We need to convert the numerical class labels into One Hot encoding"
   ]
  },
  {
   "cell_type": "code",
   "execution_count": 10,
   "metadata": {},
   "outputs": [
    {
     "data": {
      "text/plain": [
       "(0, array([1., 0., 0., 0., 0., 0., 0., 0., 0., 0.]))"
      ]
     },
     "execution_count": 10,
     "metadata": {},
     "output_type": "execute_result"
    }
   ],
   "source": [
    "n = y.__len__()\n",
    "\n",
    "y_oh = zeros((n, 10))\n",
    "\n",
    "y_oh[range(n), y] = 1.\n",
    "\n",
    "y[0], y_oh[0]"
   ]
  },
  {
   "cell_type": "markdown",
   "metadata": {},
   "source": [
    "We'll split the data into training and test sets"
   ]
  },
  {
   "cell_type": "code",
   "execution_count": 11,
   "metadata": {},
   "outputs": [
    {
     "data": {
      "text/plain": [
       "14000"
      ]
     },
     "execution_count": 11,
     "metadata": {},
     "output_type": "execute_result"
    }
   ],
   "source": [
    "from sklearn.model_selection import train_test_split\n",
    "\n",
    "X_train, X_test, y_train, y_test, y_train_oh, y_test_oh = train_test_split(X, y, y_oh, test_size=0.2)#, random_state=117)\n",
    "\n",
    "del X, y, y_oh\n",
    "\n",
    "y_test.__len__()"
   ]
  },
  {
   "cell_type": "markdown",
   "metadata": {},
   "source": [
    "Just a sanity check: it can be seen that scikit-learn's train_test_split function ensures each class is roughly equally represented in the training and test sets "
   ]
  },
  {
   "cell_type": "code",
   "execution_count": 12,
   "metadata": {},
   "outputs": [
    {
     "name": "stdout",
     "output_type": "stream",
     "text": [
      "Unique labels in training set:  [0 1 2 3 4 5 6 7 8 9]\n",
      "Number of each label:  5485 6327 5610 5701 5507 5028 5478 5820 5499 5545\n",
      "Unique labels in test set:  [0 1 2 3 4 5 6 7 8 9]\n",
      "Number of each label:  1418 1550 1380 1440 1317 1285 1398 1473 1326 1413\n"
     ]
    }
   ],
   "source": [
    "print('Unique labels in training set: ', unique(y_train))\n",
    "print('Number of each label: ', *(sum(y_train==i) for i in range(10)))\n",
    "print('Unique labels in test set: ', unique(y_test))\n",
    "print('Number of each label: ', *(sum(y_test==i) for i in range(10)))"
   ]
  },
  {
   "cell_type": "code",
   "execution_count": 13,
   "metadata": {},
   "outputs": [],
   "source": [
    "from sklearn.preprocessing import StandardScaler\n",
    "scaler = StandardScaler()\n",
    "X_train = scaler.fit_transform(X_train)\n",
    "X_test = scaler.transform(X_test)"
   ]
  },
  {
   "cell_type": "markdown",
   "metadata": {},
   "source": [
    "The following standardizes the data by: \n",
    "\n",
    "## $ z = \\frac{x - u}{s} $\n",
    "\n",
    "where x, u and s the sample value, mean and standard deviation respectively."
   ]
  },
  {
   "cell_type": "code",
   "execution_count": 14,
   "metadata": {},
   "outputs": [],
   "source": [
    "from sklearn.base import BaseEstimator, ClassifierMixin\n",
    "from sklearn.metrics import log_loss\n",
    "from tqdm import tqdm\n",
    "\n",
    "class MultiLayerPerceptron(BaseEstimator, ClassifierMixin):\n",
    "    \n",
    "    '''\n",
    "    A multilayer perceptron which uses an online gradient descent algorithm with \n",
    "    momentum to train the weights by back propagation\n",
    "    \n",
    "    Dependencies:\n",
    "        numpy\n",
    "        sklearn\n",
    "\n",
    "    Args:\n",
    "        n_in                - int, the dimensionality of the input data, number of features\n",
    "        n_out               - int, the dimensionality of the target vector\n",
    "        hidden_layers       - list, containing ints of desired weight array dimensions, \n",
    "                              n_hidden = len(hidden_layers) and will equal the number of\n",
    "                              desired hidden layers, when n_hidden == 1 the first two weight \n",
    "                              arrays will be of shape [n_in, n_hidden[0]] and [n_hidden[0], n_out], \n",
    "                              when len(n_hidden) == 2 the first two weight arrays will be of\n",
    "                              shape [n_in, n_hidden[0]] and [n_hidden[0], n_hidden[1]]\n",
    "        learning_rate       - float, effects the step size of gradient decent\n",
    "        momentum            - float, effects the step size of gradient decent\n",
    "        max_iter            - int, number of epochs to train model\n",
    "        random_state        - hashable, to seed random number generator\n",
    "        one_hot_output      - bool, if True predictions will be one hot encoded, else base 10 numerical\n",
    "        loss_function       - callable, method, how to calculate error\n",
    "        cost_function       - callable, method, an average measure of distance/error from targets over\n",
    "                              multiplesamples/epochs\n",
    "        internal_activation - callable, method, default='tanh', the activation function used between layers \n",
    "                              from inputs and through to the final hidden layer\n",
    "        output_activation   - callable, method, default='softmax', the activation function used between the \n",
    "                              final hidden layer and the output layer\n",
    "        cost_freq           - int, number of epochs between cost calculation/output\n",
    "        \n",
    "    Attributes:\n",
    "        W                   - list, contains ndarrays of weights of the network,\n",
    "                              dimenionality is determined by n_in, n_out, n_hidden \n",
    "        b                   - list, containing ndarrays of biases\n",
    "        errors              - list, containing ndarrays of calculated errors of the network\n",
    "        deltas              - list, containing ndarrays, gradients of the decent\n",
    "        tanh                - method, numpy.tanh, calculates hyperbolic tangent (Not implemented)\n",
    "        \n",
    "    To do:\n",
    "        implement:\n",
    "                 mini batch\n",
    "                 regularization\n",
    "                 batch normalization\n",
    "                 \n",
    "    '''\n",
    "    \n",
    "    epsilon = finfo(longdouble).eps\n",
    "    W       = []\n",
    "    b       = []\n",
    "    dW      = []\n",
    "    db      = []\n",
    "\n",
    "    def __init__(\n",
    "                 self,\n",
    "                 n_in                = 784, \n",
    "                 n_out               = 10,\n",
    "                 hidden_layers       = [100],\n",
    "                 learning_rate       = 1e-3, \n",
    "                 momentum            = 0.9,\n",
    "                 max_epoch           = 30,\n",
    "                 random_state        = None,\n",
    "                 network_id          = None,\n",
    "                 internal_activation = 'tanh',\n",
    "                 output_activation   = 'softmax',\n",
    "                 loss_function       = 'error_loss',\n",
    "                 cost_function       = 'cross_entropy',\n",
    "                 one_hot_output      = True,\n",
    "                 cost_freq           = 10,\n",
    "                 verbose             = False,\n",
    "                 ):\n",
    "\n",
    "        self.n_in                  = n_in\n",
    "        self.n_out                 = n_out\n",
    "        self.hidden_layers         = hidden_layers\n",
    "        self.max_epoch             = max_epoch\n",
    "        self.learning_rate         = learning_rate\n",
    "        self.momentum              = momentum\n",
    "        self.max_epoch             = max_epoch\n",
    "        self.random_state          = random_state\n",
    "        self.network_id            = network_id\n",
    "        \n",
    "        self.internal_activation   = internal_activation\n",
    "        self.output_activation     = output_activation\n",
    "        self.loss_function         = loss_function\n",
    "        self.cost_function         = cost_function\n",
    "        \n",
    "        self.one_hot_output        = one_hot_output\n",
    "        \n",
    "        self.internal_activation   = internal_activation\n",
    "        #self.activation_derivative = internal_activation + '_derivative'\n",
    "        self.output_activation     = output_activation\n",
    "        self.loss_function         = loss_function\n",
    "        self.cost_function         = cost_function\n",
    "        self.cost_freq             = cost_freq\n",
    "        \n",
    "        self.verbose               = verbose\n",
    "        \n",
    "        ####################################################################\n",
    "        #                    Initialize weights and biases                 #\n",
    "        ####################################################################\n",
    "        \n",
    "        #lower_bound = -1. if internal_activation == 'tanh' else 0.\n",
    "            \n",
    "    def _initialize(self):\n",
    "        \n",
    "        if self.random_state is not None:\n",
    "            seed(self.random_state)\n",
    "            \n",
    "        self.tanh      = tanh\n",
    "        self.log_loss  = log_loss\n",
    "        self.in_act    = getattr(self, self.internal_activation)\n",
    "        self.act_deriv = getattr(self, self.internal_activation + '_derivative')\n",
    "        self.out_act   = getattr(self, self.output_activation)\n",
    "        self.loss_func = getattr(self, self.loss_function)\n",
    "        self.cost_func = getattr(self, self.cost_function)\n",
    "        \n",
    "        dimensions                 = [self.n_in, *self.hidden_layers, self.n_out]\n",
    "        self.n_hidden              = self.hidden_layers.__len__()\n",
    "        n_layers                   = self.n_hidden + 1\n",
    "        \n",
    "        self.iter_forward          = list(zip(range(1, self.n_hidden), range(0, self.n_hidden - 1)))\n",
    "        self.iter_backward         = list(zip(range(self.n_hidden - 1, 0, -1), range(self.n_hidden, 1, -1)))\n",
    "        self.iter_update           = range(self.n_hidden)\n",
    "        \n",
    "        self.activations = [0] * n_layers\n",
    "        self.errors      = [0] * n_layers\n",
    "        self.deltas      = [0] * n_layers\n",
    "        \n",
    "        for i in range(n_layers):\n",
    "            self.W.append(uniform(-1., 1., (dimensions[i], dimensions[i + 1])).astype(float64))\n",
    "            self.dW.append(zeros(self.W[i].shape))\n",
    "            self.b.append(uniform(-1., 1., (dimensions[i + 1])).astype(float64))\n",
    "            self.db.append(zeros(self.b[i].shape))\n",
    "        \n",
    "    def fit(self, X, y=None, max_epoch=None):\n",
    "        self._initialize()\n",
    "        sample_range  = range(X.shape[0])\n",
    "        if max_epoch is not None:\n",
    "            self.max_epoch = max_epoch\n",
    "        self.error_cache = zeros(y.shape) # Will collect error for MSE calculation\n",
    "        \n",
    "        for i in tqdm(range(self.max_epoch)):\n",
    "            self.error_cache *= 0.\n",
    "            \n",
    "            for j in range(self.n_hidden + 1):\n",
    "                self.dW[j] *= 0.\n",
    "                self.db[j] *= 0.\n",
    "\n",
    "            for j in sample_range:\n",
    "                self.x, self.y = X[j], y[j]\n",
    "                self.feedforward()        \n",
    "                self.backpropagation()\n",
    "                self.update()\n",
    "                \n",
    "                self.error_cache[j] = self.cross_entropy(self.y, self.activations[self.n_hidden])\n",
    "                                      \n",
    "            if self.verbose and i % 10 == 0: # Print out progress\n",
    "                \n",
    "                # Mean squared error is a simple and stable calculation for monitoring\n",
    "                # learning progress. Cross entropy is perhaps a better indicator for\n",
    "                # binary classification.\n",
    "                \n",
    "                self.error_out = mean(self.error_cache ** 2)\n",
    "                \n",
    "                print('Epoch: %s, Loss: %s' % (i, mean(self.error_cache)))\n",
    "                \n",
    "        return self\n",
    "\n",
    "    def predict_proba(self, X):\n",
    "        '''\n",
    "        Will return a vector of numbers in the interval [0, 1]. If the output activation function\n",
    "        is softmax then the numbers will be probabilities i.e. sum to 1.\n",
    "        '''\n",
    "        self.x = X\n",
    "        # Simply feed x forwards through the network\n",
    "        self.feedforward()\n",
    "        # Creates a boolean array and converts elements to 0 or 1\n",
    "        return self.activations[self.n_hidden]\n",
    "    \n",
    "    def predict(self, X, one_hot_output=None):\n",
    "        '''\n",
    "        Will return predictions. Either base 10 numerical or one hot encoding.\n",
    "        '''\n",
    "        if one_hot_output is not None:\n",
    "            self.one_hot_output = one_hot_output\n",
    "        activation = self.predict_proba(X)\n",
    "        output = argmax(activation, axis=1)\n",
    "        if self.one_hot_output:\n",
    "            one_hot = zeros(activation.shape)\n",
    "            one_hot[range(activation.__len__()) , output] = 1.\n",
    "            output = one_hot\n",
    "        return output\n",
    "    \n",
    "    def feedforward(self):\n",
    "        \n",
    "        ###################################################################\n",
    "        #                           Feedforward                          #\n",
    "        ###################################################################\n",
    "        \n",
    "        # We will collect the network activations\n",
    "\n",
    "        # input layer\n",
    "        self.activations[0] = tanh(dot(self.x, self.W[0]) + self.b[0])\n",
    "        # Move the signal from x through the network\n",
    "        for i, j in self.iter_forward:\n",
    "            self.activations[i] = tanh(dot(self.activations[j], self.W[i]) + self.b[i])\n",
    "                               \n",
    "        # output layer\n",
    "            \n",
    "        self.activations[self.n_hidden] = self.softmax(\n",
    "                                                       dot(self.activations[self.n_hidden - 1], \\\n",
    "                                                       self.W[self.n_hidden]) \\\n",
    "                                                       + self.b[self.n_hidden]\n",
    "                                                       )\n",
    "                       \n",
    "    def backpropagation(self):\n",
    "        \n",
    "        ###################################################################\n",
    "        #                           Backpropagation                      #\n",
    "        ###################################################################\n",
    "        \n",
    "        # We will collect the errors \n",
    "        # We travel in reverse through the network, starting at the final layer\n",
    "                       \n",
    "        self.errors[self.n_hidden] = self.error_loss(self.y, self.activations[self.n_hidden])\n",
    "        self.deltas[self.n_hidden] = outer(self.activations[self.n_hidden], self.errors[self.n_hidden])\n",
    "        \n",
    "        # Now propagate error backwards through the network\n",
    "        \n",
    "        for i, j in self.iter_backward:\n",
    "            self.errors[i] = self.tanh_derivative(self.activations[i]) * dot(self.W[j], self.errors[j])\n",
    "            self.deltas[i] = outer(self.activations[i], self.errors[i])\n",
    "\n",
    "        # The error of the first layer\n",
    "                 \n",
    "        self.errors[0] = self.tanh_derivative(self.activations[0]) * dot(self.W[1], self.errors[1])\n",
    "        self.deltas[0] = outer(self.x, self.errors[0])\n",
    "        \n",
    "    def update(self):\n",
    "        \n",
    "        ######################################################################\n",
    "        #                       Update weights and biases                    #\n",
    "        ######################################################################\n",
    "        \n",
    "        for i in self.iter_update:\n",
    "            \n",
    "            #The update cache is updated\n",
    "            self.dW[i] = self.dW[i] \\\n",
    "                         * self.momentum \\\n",
    "                         + self.learning_rate \\\n",
    "                         * self.deltas[i]\n",
    "\n",
    "            self.db[i] = self.db[i] \\\n",
    "                         * self.momentum \\\n",
    "                         + self.learning_rate \\\n",
    "                         * self.errors[i]\n",
    "\n",
    "            # The parameters are updated from the update cache\n",
    "\n",
    "            self.W[i] -= self.dW[i]\n",
    "            self.b[i] -= self.db[i]\n",
    "            \n",
    "    ######################################################################\n",
    "    #                        Activation functions                        #\n",
    "    ######################################################################\n",
    "            \n",
    "    def sigmoid(self, x):\n",
    "        '''\n",
    "        Returns the sigmoid of x\n",
    "        '''\n",
    "        return 1. / (1. + exp(-x))\n",
    "    \n",
    "    def sigmoid_derivative(self, x):\n",
    "        '''\n",
    "        Returns derivative of sigmoid(x)\n",
    "        ''' \n",
    "        return x * (1. - x)\n",
    "    \n",
    "    def relu(self, x):\n",
    "        '''\n",
    "        Returns relu of x\n",
    "        '''\n",
    "        return maximum(0., x)\n",
    "\n",
    "    def relu_derivative(self, x):\n",
    "        '''\n",
    "        Returns derivative of relu(x)\n",
    "        '''\n",
    "        x[x <= 0.] = 0.\n",
    "        return x\n",
    "    \n",
    "    def softmax(self, x):\n",
    "        #print(x.shape)\n",
    "        ex = exp(x)\n",
    "        return ex / ex.sum()\n",
    "    \n",
    "    def softmax_derivative(self, y, y_hat):\n",
    "        return y_hat - y\n",
    "    \n",
    "    def tanh_derivative(self, tanhx):\n",
    "        '''\n",
    "        Returns derivative of tanh(x)\n",
    "        '''\n",
    "        return  1. - tanhx ** 2.\n",
    "    \n",
    "    def error_loss(self, y, y_hat):\n",
    "        return y_hat - y\n",
    "    \n",
    "    def cross_entropy(self, y, y_hat):\n",
    "\n",
    "        y_hat = clip(y_hat, self.epsilon, 1. - self.epsilon)\n",
    "        return -(y * log(y_hat) + (1. - y) * log(1. - y_hat))"
   ]
  },
  {
   "cell_type": "code",
   "execution_count": 15,
   "metadata": {},
   "outputs": [],
   "source": [
    "from sklearn.metrics import confusion_matrix, classification_report\n",
    "\n",
    "def display_confusion_matrix(\n",
    "                             targets,\n",
    "                             predictions,\n",
    "                             labels=None,\n",
    "                             normalize=False,\n",
    "                             title_string='Confusion matrix',\n",
    "                             cmap=cm.Blues\n",
    "                             ):\n",
    "    \"\"\"\n",
    "    This function prints and plots a confusion matrix.\n",
    "    Normalization can be applied by setting `normalize=True`.\n",
    "    \n",
    "    targets     - array-like, numerical target labels\n",
    "    predictions - \n",
    "    \"\"\"\n",
    "    if labels is None:\n",
    "        labels = list(unique(targets))\n",
    "    \n",
    "    matrix = confusion_matrix(targets, predictions, labels)\n",
    "    \n",
    "    if normalize:\n",
    "        matrix = matrix.astype('float') / matrix.sum(axis=1)[:, np.newaxis]\n",
    "        print(\"Normalized confusion matrix\")\n",
    "    else:\n",
    "        print('Confusion matrix, without normalization')\n",
    "    figure(figsize=(9, 6))\n",
    "    style.use('seaborn-white')\n",
    "    imshow(matrix, interpolation='nearest', cmap=cmap)\n",
    "    title(title_string)\n",
    "    colorbar()\n",
    "    tick_marks = arange(labels.__len__())\n",
    "    xticks(tick_marks, labels, rotation=45)\n",
    "    yticks(tick_marks, labels)\n",
    "\n",
    "    fmt = '.2f' if normalize else 'd'\n",
    "    thresh = matrix.max() / 2.\n",
    "    for i, j in __import__('itertools').product(range(matrix.shape[0]), range(matrix.shape[1])):\n",
    "        text(j, i, format(matrix[i, j], fmt),\n",
    "                 horizontalalignment=\"center\",\n",
    "                 color=\"white\" if matrix[i, j] > thresh else \"black\")\n",
    "\n",
    "    ylabel('True label', fontsize=13)\n",
    "    xlabel('Predicted label', fontsize=13)\n",
    "    rc('font', size=13)          # controls default text sizes\n",
    "    rc('axes', titlesize=13)\n",
    "    rc('axes', labelsize=13)     # fontsize of the x and y labels\n",
    "    rc('xtick', labelsize=13)    # fontsize of the tick labels\n",
    "    rc('ytick', labelsize=13)    # fontsize of the tick labels\n",
    "    rc('legend', fontsize=13)    # legend fontsize\n",
    "    tight_layout()\n",
    "    show()\n"
   ]
  },
  {
   "cell_type": "code",
   "execution_count": 16,
   "metadata": {},
   "outputs": [],
   "source": [
    "from sklearn.metrics import log_loss, make_scorer\n",
    "\n",
    "scorer = make_scorer(log_loss, greater_is_better=False, needs_proba=True)"
   ]
  },
  {
   "cell_type": "code",
   "execution_count": 17,
   "metadata": {},
   "outputs": [
    {
     "name": "stdout",
     "output_type": "stream",
     "text": [
      "Fitting 3 folds for each of 13 candidates, totalling 39 fits\n"
     ]
    },
    {
     "name": "stderr",
     "output_type": "stream",
     "text": [
      "[Parallel(n_jobs=11)]: Using backend LokyBackend with 11 concurrent workers.\n",
      "[Parallel(n_jobs=11)]: Done   1 tasks      | elapsed: 17.5min\n",
      "[Parallel(n_jobs=11)]: Done   2 tasks      | elapsed: 17.5min\n",
      "[Parallel(n_jobs=11)]: Done   3 tasks      | elapsed: 17.7min\n",
      "[Parallel(n_jobs=11)]: Done   4 tasks      | elapsed: 33.4min\n",
      "[Parallel(n_jobs=11)]: Done   5 tasks      | elapsed: 33.7min\n",
      "[Parallel(n_jobs=11)]: Done   6 tasks      | elapsed: 34.0min\n",
      "[Parallel(n_jobs=11)]: Done   7 tasks      | elapsed: 74.0min\n",
      "[Parallel(n_jobs=11)]: Done   8 tasks      | elapsed: 79.9min\n",
      "[Parallel(n_jobs=11)]: Done   9 tasks      | elapsed: 80.2min\n",
      "[Parallel(n_jobs=11)]: Done  10 tasks      | elapsed: 117.5min\n",
      "[Parallel(n_jobs=11)]: Done  11 tasks      | elapsed: 126.6min\n",
      "[Parallel(n_jobs=11)]: Done  12 tasks      | elapsed: 154.9min\n",
      "[Parallel(n_jobs=11)]: Done  13 tasks      | elapsed: 169.4min\n",
      "[Parallel(n_jobs=11)]: Done  14 tasks      | elapsed: 181.7min\n",
      "[Parallel(n_jobs=11)]: Done  15 tasks      | elapsed: 195.9min\n",
      "[Parallel(n_jobs=11)]: Done  16 tasks      | elapsed: 228.0min\n",
      "[Parallel(n_jobs=11)]: Done  17 tasks      | elapsed: 230.5min\n",
      "[Parallel(n_jobs=11)]: Done  18 tasks      | elapsed: 243.5min\n",
      "[Parallel(n_jobs=11)]: Done  22 out of  39 | elapsed: 331.2min remaining: 256.0min\n",
      "[Parallel(n_jobs=11)]: Done  26 out of  39 | elapsed: 364.2min remaining: 182.1min\n",
      "[Parallel(n_jobs=11)]: Done  30 out of  39 | elapsed: 483.5min remaining: 145.1min\n",
      "[Parallel(n_jobs=11)]: Done  34 out of  39 | elapsed: 636.0min remaining: 93.5min\n",
      "[Parallel(n_jobs=11)]: Done  39 out of  39 | elapsed: 787.6min finished\n",
      "100%|████████████████████████████████████████████████████████████████████████████████| 100/100 [27:09<00:00, 16.29s/it]\n"
     ]
    },
    {
     "data": {
      "text/plain": [
       "GridSearchCV(cv=3, error_score=nan,\n",
       "             estimator=MultiLayerPerceptron(cost_freq=10,\n",
       "                                            cost_function='cross_entropy',\n",
       "                                            hidden_layers=[50],\n",
       "                                            internal_activation='tanh',\n",
       "                                            learning_rate=0.001,\n",
       "                                            loss_function='error_loss',\n",
       "                                            max_epoch=100, momentum=0.9,\n",
       "                                            n_in=784, n_out=10, network_id=None,\n",
       "                                            one_hot_output=False,\n",
       "                                            output_activation='softmax',\n",
       "                                            random_state=None, verbose=False),\n",
       "             iid='deprecated', n_jobs=11,\n",
       "             param_grid={'hidden_layers': [[10], [25], [50], [75], [100], [150],\n",
       "                                           [200], [10, 10], [25, 25], [50, 50],\n",
       "                                           [75, 75], [100, 100], [200, 200]]},\n",
       "             pre_dispatch='2*n_jobs', refit=True, return_train_score=False,\n",
       "             scoring=make_scorer(log_loss, greater_is_better=False, needs_proba=True),\n",
       "             verbose=11)"
      ]
     },
     "execution_count": 17,
     "metadata": {},
     "output_type": "execute_result"
    }
   ],
   "source": [
    "from sklearn.model_selection import GridSearchCV\n",
    "import multiprocessing\n",
    "\n",
    "n_free = 1 # number of cpu threads you want to be free (maybe you want to browse the internet)\n",
    "    \n",
    "parameters = dict(hidden_layers=[\n",
    "                                [10], \n",
    "                                [25],\n",
    "                                [50],\n",
    "                                [75],\n",
    "                                [100],\n",
    "                                [150],\n",
    "                                [200],\n",
    "                                [10, 10],\n",
    "                                [25, 25],\n",
    "                                [50, 50],\n",
    "                                [75, 75],\n",
    "                                [100, 100],\n",
    "                                [200, 200],\n",
    "                                ])\n",
    "\n",
    "clf = GridSearchCV(estimator=MultiLayerPerceptron(max_epoch=50, one_hot_output=False),\n",
    "                   param_grid=parameters, \n",
    "                   scoring=scorer,\n",
    "                   cv=3,\n",
    "                   n_jobs=multiprocessing.cpu_count() - n_free, \n",
    "                   verbose=11,\n",
    "                   )\n",
    "\n",
    "clf.fit(X_train, y_train_oh)"
   ]
  },
  {
   "cell_type": "code",
   "execution_count": 20,
   "metadata": {},
   "outputs": [
    {
     "name": "stdout",
     "output_type": "stream",
     "text": [
      "Fitting 3 folds for each of 6 candidates, totalling 18 fits\n"
     ]
    },
    {
     "name": "stderr",
     "output_type": "stream",
     "text": [
      "[Parallel(n_jobs=11)]: Using backend LokyBackend with 11 concurrent workers.\n",
      "[Parallel(n_jobs=11)]: Done   1 tasks      | elapsed: 22.3min\n",
      "[Parallel(n_jobs=11)]: Done   3 out of  18 | elapsed: 22.7min remaining: 113.3min\n",
      "[Parallel(n_jobs=11)]: Done   5 out of  18 | elapsed: 25.4min remaining: 66.0min\n",
      "[Parallel(n_jobs=11)]: Done   7 out of  18 | elapsed: 31.1min remaining: 48.8min\n",
      "[Parallel(n_jobs=11)]: Done   9 out of  18 | elapsed: 31.7min remaining: 31.7min\n",
      "[Parallel(n_jobs=11)]: Done  11 out of  18 | elapsed: 41.0min remaining: 26.1min\n",
      "[Parallel(n_jobs=11)]: Done  13 out of  18 | elapsed: 57.7min remaining: 22.2min\n",
      "[Parallel(n_jobs=11)]: Done  15 out of  18 | elapsed: 58.8min remaining: 11.8min\n",
      "[Parallel(n_jobs=11)]: Done  18 out of  18 | elapsed: 61.1min finished\n",
      "100%|██████████████████████████████████████████████████████████████████████████████████| 50/50 [11:09<00:00, 13.40s/it]\n"
     ]
    },
    {
     "data": {
      "text/plain": [
       "GridSearchCV(cv=3, error_score=nan,\n",
       "             estimator=MultiLayerPerceptron(cost_freq=10,\n",
       "                                            cost_function='cross_entropy',\n",
       "                                            hidden_layers=[100],\n",
       "                                            internal_activation='tanh',\n",
       "                                            learning_rate=0.001,\n",
       "                                            loss_function='error_loss',\n",
       "                                            max_epoch=50, momentum=0.9,\n",
       "                                            n_in=784, n_out=10, network_id=None,\n",
       "                                            one_hot_output=False,\n",
       "                                            output_activation='softmax',\n",
       "                                            random_state=None, verbose=False),\n",
       "             iid='deprecated', n_jobs=11,\n",
       "             param_grid={'hidden_layers': [[30], [34], [43], [57], [64], [70]]},\n",
       "             pre_dispatch='2*n_jobs', refit=True, return_train_score=False,\n",
       "             scoring=make_scorer(log_loss, greater_is_better=False, needs_proba=True),\n",
       "             verbose=11)"
      ]
     },
     "execution_count": 20,
     "metadata": {},
     "output_type": "execute_result"
    }
   ],
   "source": [
    "n_free = 1 # number of cpu threads you want to be free (maybe you want to browse the internet)\n",
    "    \n",
    "parameters = dict(hidden_layers=[\n",
    "                                [30],\n",
    "                                [34],\n",
    "                                [43],\n",
    "                                [57],\n",
    "                                [64],\n",
    "                                [70],\n",
    "                                ])\n",
    "\n",
    "clf = GridSearchCV(estimator=MultiLayerPerceptron(max_epoch=50, one_hot_output=False),\n",
    "                   param_grid=parameters, \n",
    "                   scoring=scorer,\n",
    "                   cv=3,\n",
    "                   n_jobs=multiprocessing.cpu_count() - n_free, \n",
    "                   verbose=11,\n",
    "                   )\n",
    "\n",
    "clf.fit(X_train, y_train_oh)"
   ]
  },
  {
   "cell_type": "code",
   "execution_count": 22,
   "metadata": {},
   "outputs": [
    {
     "data": {
      "text/plain": [
       "{'hidden_layers': [34]}"
      ]
     },
     "execution_count": 22,
     "metadata": {},
     "output_type": "execute_result"
    }
   ],
   "source": [
    "clf.best_params_"
   ]
  },
  {
   "cell_type": "code",
   "execution_count": 18,
   "metadata": {},
   "outputs": [
    {
     "name": "stderr",
     "output_type": "stream",
     "text": [
      "100%|████████████████████████████████████████████████████████████████████████████████| 100/100 [27:32<00:00, 16.52s/it]\n"
     ]
    },
    {
     "name": "stdout",
     "output_type": "stream",
     "text": [
      "Confusion matrix, without normalization\n"
     ]
    },
    {
     "data": {
      "image/png": "[encoded data removed]",
      "text/plain": [
       "<Figure size 648x432 with 2 Axes>"
      ]
     },
     "metadata": {
      "needs_background": "light"
     },
     "output_type": "display_data"
    },
    {
     "name": "stdout",
     "output_type": "stream",
     "text": [
      "              precision    recall  f1-score   support\n",
      "\n",
      "           0       0.94      0.95      0.95      1378\n",
      "           1       0.96      0.97      0.96      1563\n",
      "           2       0.90      0.89      0.90      1381\n",
      "           3       0.91      0.89      0.90      1435\n",
      "           4       0.91      0.92      0.92      1353\n",
      "           5       0.87      0.90      0.89      1217\n",
      "           6       0.94      0.95      0.94      1446\n",
      "           7       0.92      0.92      0.92      1523\n",
      "           8       0.90      0.88      0.89      1300\n",
      "           9       0.89      0.89      0.89      1404\n",
      "\n",
      "    accuracy                           0.92     14000\n",
      "   macro avg       0.91      0.91      0.91     14000\n",
      "weighted avg       0.92      0.92      0.92     14000\n",
      "\n"
     ]
    }
   ],
   "source": [
    "# from sklearn.preprocessing import StandardScaler\n",
    "# scaler = StandardScaler()\n",
    "# S_tr = scaler.fit_transform(X_train)\n",
    "clf.best_estimator_.fit(X_train, y_train_oh)\n",
    "predictions = clf.best_estimator_.predict(X_test, one_hot_output=False)\n",
    "#predictions = argmax(predictions, axis=1)\n",
    "display_confusion_matrix(y_test, predictions)\n",
    "print(classification_report(y_test, predictions))"
   ]
  },
  {
   "cell_type": "code",
   "execution_count": 20,
   "metadata": {},
   "outputs": [
    {
     "name": "stderr",
     "output_type": "stream",
     "text": [
      "100%|████████████████████████████████████████████████████████████████████████████████| 100/100 [22:29<00:00, 13.50s/it]\n"
     ]
    },
    {
     "name": "stdout",
     "output_type": "stream",
     "text": [
      "Confusion matrix, without normalization\n"
     ]
    },
    {
     "data": {
      "image/png": "[encoded data removed]",
      "text/plain": [
       "<Figure size 648x432 with 2 Axes>"
      ]
     },
     "metadata": {
      "needs_background": "light"
     },
     "output_type": "display_data"
    },
    {
     "name": "stdout",
     "output_type": "stream",
     "text": [
      "              precision    recall  f1-score   support\n",
      "\n",
      "           0       0.93      0.95      0.94      1418\n",
      "           1       0.96      0.96      0.96      1550\n",
      "           2       0.89      0.89      0.89      1380\n",
      "           3       0.91      0.88      0.90      1440\n",
      "           4       0.87      0.91      0.89      1317\n",
      "           5       0.90      0.85      0.87      1285\n",
      "           6       0.91      0.94      0.93      1398\n",
      "           7       0.93      0.91      0.92      1473\n",
      "           8       0.88      0.86      0.87      1326\n",
      "           9       0.87      0.90      0.88      1413\n",
      "\n",
      "    accuracy                           0.91     14000\n",
      "   macro avg       0.90      0.90      0.90     14000\n",
      "weighted avg       0.91      0.91      0.91     14000\n",
      "\n"
     ]
    }
   ],
   "source": [
    "# from sklearn.preprocessing import StandardScaler\n",
    "# scaler = StandardScaler()\n",
    "# S_tr = scaler.fit_transform(X_train)\n",
    "clf.best_estimator_.fit(X_train, y_train_oh)\n",
    "predictions = clf.best_estimator_.predict(X_test, one_hot_output=False)\n",
    "#predictions = argmax(predictions, axis=1)\n",
    "display_confusion_matrix(y_test, predictions)\n",
    "print(classification_report(y_test, predictions))"
   ]
  },
  {
   "cell_type": "code",
   "execution_count": 34,
   "metadata": {},
   "outputs": [
    {
     "data": {
      "text/plain": [
       "(array([0., 0., 0., 0., 0., 0.]), [0.0, 0.0, 0.0, 0.0, 0.0, 0.0])"
      ]
     },
     "execution_count": 34,
     "metadata": {},
     "output_type": "execute_result"
    }
   ],
   "source": [
    "n_free = 1 # number of cpu threads you want to be free (maybe you want to browse the internet)\n",
    "    \n",
    "parameters = dict(hidden_layers=[\n",
    "                                [30],\n",
    "                                [31],\n",
    "                                [33],\n",
    "                                [34],\n",
    "                                [35],\n",
    "                                [36],\n",
    "                                [37],\n",
    "                                [38],\n",
    "                                [39],\n",
    "                                ])\n",
    "\n",
    "clf = GridSearchCV(estimator=MultiLayerPerceptron(max_epoch=50, one_hot_output=False),\n",
    "                   param_grid=parameters, \n",
    "                   scoring=scorer,\n",
    "                   cv=3,\n",
    "                   n_jobs=multiprocessing.cpu_count() - n_free, \n",
    "                   verbose=11,\n",
    "                   )\n",
    "\n",
    "clf.fit(X_train, y_train_oh)"
   ]
  },
  {
   "cell_type": "code",
   "execution_count": 22,
   "metadata": {},
   "outputs": [
    {
     "data": {
      "text/plain": [
       "[(50,), (100,), (150,), (200,), (50, 50), (100, 100), (150, 150)]"
      ]
     },
     "execution_count": 22,
     "metadata": {},
     "output_type": "execute_result"
    }
   ],
   "source": [
    "parameters['hidden_layers']"
   ]
  },
  {
   "cell_type": "code",
   "execution_count": 29,
   "metadata": {},
   "outputs": [
    {
     "data": {
      "text/plain": [
       "array([0.39069383, 0.28943311, 0.31987306])"
      ]
     },
     "execution_count": 29,
     "metadata": {},
     "output_type": "execute_result"
    }
   ],
   "source": [
    "x = array([1, 0.7, 0.8])\n",
    "\n",
    "e ** x / sum(e ** x)"
   ]
  },
  {
   "cell_type": "code",
   "execution_count": 17,
   "metadata": {},
   "outputs": [],
   "source": [
    "clf = MultiLayerPerceptron(hidden_layers=[34])"
   ]
  },
  {
   "cell_type": "code",
   "execution_count": 19,
   "metadata": {},
   "outputs": [],
   "source": [
    "clf.best_estimator_=MultiLayerPerceptron(hidden_layers=[34], max_epoch=100)"
   ]
  },
  {
   "cell_type": "code",
   "execution_count": 45,
   "metadata": {},
   "outputs": [
    {
     "ename": "AssertionError",
     "evalue": "Estimator MultiLayerPerceptron should not set any attribute apart from parameters during init. Found attributes ['n_hidden'].",
     "output_type": "error",
     "traceback": [
      "\u001b[1;31m---------------------------------------------------------------------------\u001b[0m",
      "\u001b[1;31mAssertionError\u001b[0m                            Traceback (most recent call last)",
      "\u001b[1;32m<ipython-input-45-b6bde03bb0ab>\u001b[0m in \u001b[0;36m<module>\u001b[1;34m\u001b[0m\n\u001b[1;32m----> 1\u001b[1;33m \u001b[0mcheck_estimator\u001b[0m\u001b[1;33m(\u001b[0m\u001b[0mMultiLayerPerceptron\u001b[0m\u001b[1;33m(\u001b[0m\u001b[1;33m)\u001b[0m\u001b[1;33m)\u001b[0m\u001b[1;33m\u001b[0m\u001b[1;33m\u001b[0m\u001b[0m\n\u001b[0m",
      "\u001b[1;32mC:\\Anaconda3\\envs\\ML\\lib\\site-packages\\sklearn\\utils\\estimator_checks.py\u001b[0m in \u001b[0;36mcheck_estimator\u001b[1;34m(Estimator, generate_only)\u001b[0m\n\u001b[0;32m    425\u001b[0m     \u001b[1;32mfor\u001b[0m \u001b[0mestimator\u001b[0m\u001b[1;33m,\u001b[0m \u001b[0mcheck\u001b[0m \u001b[1;32min\u001b[0m \u001b[0mchecks_generator\u001b[0m\u001b[1;33m:\u001b[0m\u001b[1;33m\u001b[0m\u001b[1;33m\u001b[0m\u001b[0m\n\u001b[0;32m    426\u001b[0m         \u001b[1;32mtry\u001b[0m\u001b[1;33m:\u001b[0m\u001b[1;33m\u001b[0m\u001b[1;33m\u001b[0m\u001b[0m\n\u001b[1;32m--> 427\u001b[1;33m             \u001b[0mcheck\u001b[0m\u001b[1;33m(\u001b[0m\u001b[0mestimator\u001b[0m\u001b[1;33m)\u001b[0m\u001b[1;33m\u001b[0m\u001b[1;33m\u001b[0m\u001b[0m\n\u001b[0m\u001b[0;32m    428\u001b[0m         \u001b[1;32mexcept\u001b[0m \u001b[0mSkipTest\u001b[0m \u001b[1;32mas\u001b[0m \u001b[0mexception\u001b[0m\u001b[1;33m:\u001b[0m\u001b[1;33m\u001b[0m\u001b[1;33m\u001b[0m\u001b[0m\n\u001b[0;32m    429\u001b[0m             \u001b[1;31m# the only SkipTest thrown currently results from not\u001b[0m\u001b[1;33m\u001b[0m\u001b[1;33m\u001b[0m\u001b[1;33m\u001b[0m\u001b[0m\n",
      "\u001b[1;32mC:\\Anaconda3\\envs\\ML\\lib\\site-packages\\sklearn\\utils\\_testing.py\u001b[0m in \u001b[0;36mwrapper\u001b[1;34m(*args, **kwargs)\u001b[0m\n\u001b[0;32m    325\u001b[0m             \u001b[1;32mwith\u001b[0m \u001b[0mwarnings\u001b[0m\u001b[1;33m.\u001b[0m\u001b[0mcatch_warnings\u001b[0m\u001b[1;33m(\u001b[0m\u001b[1;33m)\u001b[0m\u001b[1;33m:\u001b[0m\u001b[1;33m\u001b[0m\u001b[1;33m\u001b[0m\u001b[0m\n\u001b[0;32m    326\u001b[0m                 \u001b[0mwarnings\u001b[0m\u001b[1;33m.\u001b[0m\u001b[0msimplefilter\u001b[0m\u001b[1;33m(\u001b[0m\u001b[1;34m\"ignore\"\u001b[0m\u001b[1;33m,\u001b[0m \u001b[0mself\u001b[0m\u001b[1;33m.\u001b[0m\u001b[0mcategory\u001b[0m\u001b[1;33m)\u001b[0m\u001b[1;33m\u001b[0m\u001b[1;33m\u001b[0m\u001b[0m\n\u001b[1;32m--> 327\u001b[1;33m                 \u001b[1;32mreturn\u001b[0m \u001b[0mfn\u001b[0m\u001b[1;33m(\u001b[0m\u001b[1;33m*\u001b[0m\u001b[0margs\u001b[0m\u001b[1;33m,\u001b[0m \u001b[1;33m**\u001b[0m\u001b[0mkwargs\u001b[0m\u001b[1;33m)\u001b[0m\u001b[1;33m\u001b[0m\u001b[1;33m\u001b[0m\u001b[0m\n\u001b[0m\u001b[0;32m    328\u001b[0m \u001b[1;33m\u001b[0m\u001b[0m\n\u001b[0;32m    329\u001b[0m         \u001b[1;32mreturn\u001b[0m \u001b[0mwrapper\u001b[0m\u001b[1;33m\u001b[0m\u001b[1;33m\u001b[0m\u001b[0m\n",
      "\u001b[1;32mC:\\Anaconda3\\envs\\ML\\lib\\site-packages\\sklearn\\utils\\estimator_checks.py\u001b[0m in \u001b[0;36mcheck_no_attributes_set_in_init\u001b[1;34m(name, estimator_orig)\u001b[0m\n\u001b[0;32m   2411\u001b[0m             \u001b[1;34m\"Estimator %s should not set any attribute apart\"\u001b[0m\u001b[1;33m\u001b[0m\u001b[1;33m\u001b[0m\u001b[0m\n\u001b[0;32m   2412\u001b[0m             \u001b[1;34m\" from parameters during init. Found attributes %s.\"\u001b[0m\u001b[1;33m\u001b[0m\u001b[1;33m\u001b[0m\u001b[0m\n\u001b[1;32m-> 2413\u001b[1;33m             % (name, sorted(invalid_attr)))\n\u001b[0m\u001b[0;32m   2414\u001b[0m     \u001b[1;31m# Ensure that each parameter is set in init\u001b[0m\u001b[1;33m\u001b[0m\u001b[1;33m\u001b[0m\u001b[1;33m\u001b[0m\u001b[0m\n\u001b[0;32m   2415\u001b[0m     \u001b[0minvalid_attr\u001b[0m \u001b[1;33m=\u001b[0m \u001b[0mset\u001b[0m\u001b[1;33m(\u001b[0m\u001b[0minit_params\u001b[0m\u001b[1;33m)\u001b[0m \u001b[1;33m-\u001b[0m \u001b[0mset\u001b[0m\u001b[1;33m(\u001b[0m\u001b[0mvars\u001b[0m\u001b[1;33m(\u001b[0m\u001b[0mestimator\u001b[0m\u001b[1;33m)\u001b[0m\u001b[1;33m)\u001b[0m \u001b[1;33m-\u001b[0m \u001b[1;33m{\u001b[0m\u001b[1;34m\"self\"\u001b[0m\u001b[1;33m}\u001b[0m\u001b[1;33m\u001b[0m\u001b[1;33m\u001b[0m\u001b[0m\n",
      "\u001b[1;31mAssertionError\u001b[0m: Estimator MultiLayerPerceptron should not set any attribute apart from parameters during init. Found attributes ['n_hidden']."
     ]
    }
   ],
   "source": [
    "check_estimator(MultiLayerPerceptron())"
   ]
  },
  {
   "cell_type": "code",
   "execution_count": 21,
   "metadata": {},
   "outputs": [],
   "source": [
    "from scipy.special import softmax as sm"
   ]
  },
  {
   "cell_type": "code",
   "execution_count": 27,
   "metadata": {},
   "outputs": [
    {
     "data": {
      "text/plain": [
       "(array([[2.39694479e-01, 3.23553704e-01, 4.36751817e-01],\n",
       "        [3.45645578e-02, 9.37136376e-01, 2.82990665e-02],\n",
       "        [2.20249736e-01, 2.43413603e-01, 5.36336662e-01],\n",
       "        [1.67011429e-05, 1.67011429e-05, 9.99966598e-01]]),\n",
       " array([0.23969448, 0.3235537 , 0.43675182]))"
      ]
     },
     "execution_count": 27,
     "metadata": {},
     "output_type": "execute_result"
    }
   ],
   "source": [
    "x = array([[0.2, 0.5, 0.8],\n",
    "           [0.7, 4, 0.5],\n",
    "           [0.1, 0.2, 0.99],\n",
    "           [34, 34, 45]])\n",
    "\n",
    "a = softmax(x, axis=1)\n",
    "b = sm(x[0])\n",
    "\n",
    "a, b"
   ]
  },
  {
   "cell_type": "code",
   "execution_count": 1,
   "metadata": {},
   "outputs": [],
   "source": [
    "class O:\n",
    "    def __init__(self, ):\n",
    "        self.x = 9\n",
    "\n",
    "a = O()\n",
    "b = O()\n",
    "c = O()\n",
    "        \n",
    "x = [a]\n",
    "\n",
    "\n",
    "\n"
   ]
  },
  {
   "cell_type": "code",
   "execution_count": 2,
   "metadata": {},
   "outputs": [
    {
     "data": {
      "text/plain": [
       "<__main__.O at 0x2535003a898>"
      ]
     },
     "execution_count": 2,
     "metadata": {},
     "output_type": "execute_result"
    }
   ],
   "source": [
    "x[0]"
   ]
  },
  {
   "cell_type": "code",
   "execution_count": 60,
   "metadata": {},
   "outputs": [
    {
     "data": {
      "text/plain": [
       "0"
      ]
     },
     "execution_count": 60,
     "metadata": {},
     "output_type": "execute_result"
    }
   ],
   "source": [
    "def f(x):\n",
    "    return 1 if x is 4 else 0\n",
    "\n",
    "f(0)"
   ]
  },
  {
   "cell_type": "code",
   "execution_count": 32,
   "metadata": {},
   "outputs": [
    {
     "data": {
      "text/plain": [
       "array([[210, 287],\n",
       "       [287, 602]])"
      ]
     },
     "execution_count": 32,
     "metadata": {},
     "output_type": "execute_result"
    }
   ],
   "source": [
    "\n",
    "    \n",
    "y = array([[1, 2, 3, 4],\n",
    "           [5, 6, 4, 3]])\n",
    "\n",
    "z = y.T.copy()\n",
    "\n",
    "7 * y @ z"
   ]
  },
  {
   "cell_type": "code",
   "execution_count": 105,
   "metadata": {},
   "outputs": [],
   "source": [
    "n = 1\n",
    "\n",
    "a  = range(n - 1, 0, -1)\n",
    "b = range(n, 1, -1)\n",
    "\n",
    "for i, j in zip(a, b):\n",
    "    print(i, j)"
   ]
  },
  {
   "cell_type": "code",
   "execution_count": 24,
   "metadata": {},
   "outputs": [
    {
     "data": {
      "text/plain": [
       "<function matplotlib.pyplot.clf()>"
      ]
     },
     "execution_count": 24,
     "metadata": {},
     "output_type": "execute_result"
    }
   ],
   "source": [
    "clf"
   ]
  },
  {
   "cell_type": "code",
   "execution_count": 27,
   "metadata": {},
   "outputs": [
    {
     "data": {
      "text/plain": [
       "'0.21.2'"
      ]
     },
     "execution_count": 27,
     "metadata": {},
     "output_type": "execute_result"
    }
   ],
   "source": [
    "__import__('sklearn').__version__"
   ]
  },
  {
   "cell_type": "code",
   "execution_count": 22,
   "metadata": {},
   "outputs": [
    {
     "name": "stdout",
     "output_type": "stream",
     "text": [
      "Using matplotlib backend: Qt5Agg\n",
      "Populating the interactive namespace from numpy and matplotlib\n",
      "Fitting 3 folds for each of 7 candidates, totalling 21 fits\n"
     ]
    },
    {
     "name": "stderr",
     "output_type": "stream",
     "text": [
      "[Parallel(n_jobs=-1)]: Using backend LokyBackend with 8 concurrent workers.\n",
      "[Parallel(n_jobs=-1)]: Done   1 tasks      | elapsed:    3.8s\n",
      "[Parallel(n_jobs=-1)]: Done   2 tasks      | elapsed:    3.8s\n",
      "[Parallel(n_jobs=-1)]: Done   3 tasks      | elapsed:    3.9s\n",
      "[Parallel(n_jobs=-1)]: Done   4 tasks      | elapsed:    4.0s\n",
      "[Parallel(n_jobs=-1)]: Done   5 tasks      | elapsed:    4.0s\n",
      "[Parallel(n_jobs=-1)]: Done   6 tasks      | elapsed:    4.0s\n",
      "[Parallel(n_jobs=-1)]: Done   7 out of  20 | elapsed:    4.0s remaining:    7.5s\n",
      "[Parallel(n_jobs=-1)]: Done   9 out of  20 | elapsed:    4.0s remaining:    4.9s\n",
      "[Parallel(n_jobs=-1)]: Done  11 out of  20 | elapsed:    4.0s remaining:    3.2s\n",
      "[Parallel(n_jobs=-1)]: Done  13 out of  20 | elapsed:    4.0s remaining:    2.1s\n",
      "[Parallel(n_jobs=-1)]: Done  15 out of  20 | elapsed:    4.0s remaining:    1.3s\n",
      "[Parallel(n_jobs=-1)]: Done  17 out of  20 | elapsed:    4.0s remaining:    0.6s\n"
     ]
    },
    {
     "ename": "ValueError",
     "evalue": "Expected array-like (array or non-string sequence), got None",
     "output_type": "error",
     "traceback": [
      "\u001b[1;31m---------------------------------------------------------------------------\u001b[0m",
      "\u001b[1;31m_RemoteTraceback\u001b[0m                          Traceback (most recent call last)",
      "\u001b[1;31m_RemoteTraceback\u001b[0m: \n\"\"\"\nTraceback (most recent call last):\n  File \"C:\\Anaconda3\\envs\\NLP37\\lib\\site-packages\\joblib\\externals\\loky\\process_executor.py\", line 418, in _process_worker\n    r = call_item()\n  File \"C:\\Anaconda3\\envs\\NLP37\\lib\\site-packages\\joblib\\externals\\loky\\process_executor.py\", line 272, in __call__\n    return self.fn(*self.args, **self.kwargs)\n  File \"C:\\Anaconda3\\envs\\NLP37\\lib\\site-packages\\joblib\\_parallel_backends.py\", line 567, in __call__\n    return self.func(*args, **kwargs)\n  File \"C:\\Anaconda3\\envs\\NLP37\\lib\\site-packages\\joblib\\parallel.py\", line 225, in __call__\n    for func, args, kwargs in self.items]\n  File \"C:\\Anaconda3\\envs\\NLP37\\lib\\site-packages\\joblib\\parallel.py\", line 225, in <listcomp>\n    for func, args, kwargs in self.items]\n  File \"C:\\Anaconda3\\envs\\NLP37\\lib\\site-packages\\sklearn\\model_selection\\_validation.py\", line 554, in _fit_and_score\n    test_scores = _score(estimator, X_test, y_test, scorer, is_multimetric)\n  File \"C:\\Anaconda3\\envs\\NLP37\\lib\\site-packages\\sklearn\\model_selection\\_validation.py\", line 597, in _score\n    return _multimetric_score(estimator, X_test, y_test, scorer)\n  File \"C:\\Anaconda3\\envs\\NLP37\\lib\\site-packages\\sklearn\\model_selection\\_validation.py\", line 627, in _multimetric_score\n    score = scorer(estimator, X_test, y_test)\n  File \"C:\\Anaconda3\\envs\\NLP37\\lib\\site-packages\\sklearn\\metrics\\scorer.py\", line 97, in __call__\n    **self._kwargs)\n  File \"C:\\Anaconda3\\envs\\NLP37\\lib\\site-packages\\sklearn\\metrics\\classification.py\", line 1059, in f1_score\n    sample_weight=sample_weight)\n  File \"C:\\Anaconda3\\envs\\NLP37\\lib\\site-packages\\sklearn\\metrics\\classification.py\", line 1182, in fbeta_score\n    sample_weight=sample_weight)\n  File \"C:\\Anaconda3\\envs\\NLP37\\lib\\site-packages\\sklearn\\metrics\\classification.py\", line 1415, in precision_recall_fscore_support\n    pos_label)\n  File \"C:\\Anaconda3\\envs\\NLP37\\lib\\site-packages\\sklearn\\metrics\\classification.py\", line 1239, in _check_set_wise_labels\n    y_type, y_true, y_pred = _check_targets(y_true, y_pred)\n  File \"C:\\Anaconda3\\envs\\NLP37\\lib\\site-packages\\sklearn\\metrics\\classification.py\", line 73, in _check_targets\n    type_pred = type_of_target(y_pred)\n  File \"C:\\Anaconda3\\envs\\NLP37\\lib\\site-packages\\sklearn\\utils\\multiclass.py\", line 241, in type_of_target\n    'got %r' % y)\nValueError: Expected array-like (array or non-string sequence), got None\n\"\"\"",
      "\nThe above exception was the direct cause of the following exception:\n",
      "\u001b[1;31mValueError\u001b[0m                                Traceback (most recent call last)",
      "\u001b[1;32m<ipython-input-22-098bf8be9321>\u001b[0m in \u001b[0;36m<module>\u001b[1;34m\u001b[0m\n\u001b[0;32m     28\u001b[0m \u001b[0mgrid\u001b[0m \u001b[1;33m=\u001b[0m \u001b[0mGridSearchCV\u001b[0m\u001b[1;33m(\u001b[0m\u001b[0mEstimatron\u001b[0m\u001b[1;33m(\u001b[0m\u001b[1;33m)\u001b[0m\u001b[1;33m,\u001b[0m \u001b[0mparam_grid\u001b[0m\u001b[1;33m=\u001b[0m\u001b[0mparameters\u001b[0m\u001b[1;33m,\u001b[0m \u001b[0mscoring\u001b[0m\u001b[1;33m=\u001b[0m\u001b[1;34m'f1'\u001b[0m\u001b[1;33m,\u001b[0m \u001b[0mcv\u001b[0m\u001b[1;33m=\u001b[0m\u001b[1;36m3\u001b[0m\u001b[1;33m,\u001b[0m \u001b[0mn_jobs\u001b[0m\u001b[1;33m=\u001b[0m\u001b[1;33m-\u001b[0m\u001b[1;36m1\u001b[0m\u001b[1;33m,\u001b[0m \u001b[0mverbose\u001b[0m\u001b[1;33m=\u001b[0m\u001b[1;36m11\u001b[0m\u001b[1;33m)\u001b[0m\u001b[1;33m\u001b[0m\u001b[1;33m\u001b[0m\u001b[0m\n\u001b[0;32m     29\u001b[0m \u001b[1;33m\u001b[0m\u001b[0m\n\u001b[1;32m---> 30\u001b[1;33m \u001b[0mgrid\u001b[0m\u001b[1;33m.\u001b[0m\u001b[0mfit\u001b[0m\u001b[1;33m(\u001b[0m\u001b[0mS_tr\u001b[0m\u001b[1;33m,\u001b[0m \u001b[0my_oh_train\u001b[0m\u001b[1;33m)\u001b[0m\u001b[1;33m\u001b[0m\u001b[1;33m\u001b[0m\u001b[0m\n\u001b[0m",
      "\u001b[1;32mC:\\Anaconda3\\envs\\NLP37\\lib\\site-packages\\sklearn\\model_selection\\_search.py\u001b[0m in \u001b[0;36mfit\u001b[1;34m(self, X, y, groups, **fit_params)\u001b[0m\n\u001b[0;32m    685\u001b[0m                 \u001b[1;32mreturn\u001b[0m \u001b[0mresults\u001b[0m\u001b[1;33m\u001b[0m\u001b[1;33m\u001b[0m\u001b[0m\n\u001b[0;32m    686\u001b[0m \u001b[1;33m\u001b[0m\u001b[0m\n\u001b[1;32m--> 687\u001b[1;33m             \u001b[0mself\u001b[0m\u001b[1;33m.\u001b[0m\u001b[0m_run_search\u001b[0m\u001b[1;33m(\u001b[0m\u001b[0mevaluate_candidates\u001b[0m\u001b[1;33m)\u001b[0m\u001b[1;33m\u001b[0m\u001b[1;33m\u001b[0m\u001b[0m\n\u001b[0m\u001b[0;32m    688\u001b[0m \u001b[1;33m\u001b[0m\u001b[0m\n\u001b[0;32m    689\u001b[0m         \u001b[1;31m# For multi-metric evaluation, store the best_index_, best_params_ and\u001b[0m\u001b[1;33m\u001b[0m\u001b[1;33m\u001b[0m\u001b[1;33m\u001b[0m\u001b[0m\n",
      "\u001b[1;32mC:\\Anaconda3\\envs\\NLP37\\lib\\site-packages\\sklearn\\model_selection\\_search.py\u001b[0m in \u001b[0;36m_run_search\u001b[1;34m(self, evaluate_candidates)\u001b[0m\n\u001b[0;32m   1146\u001b[0m     \u001b[1;32mdef\u001b[0m \u001b[0m_run_search\u001b[0m\u001b[1;33m(\u001b[0m\u001b[0mself\u001b[0m\u001b[1;33m,\u001b[0m \u001b[0mevaluate_candidates\u001b[0m\u001b[1;33m)\u001b[0m\u001b[1;33m:\u001b[0m\u001b[1;33m\u001b[0m\u001b[1;33m\u001b[0m\u001b[0m\n\u001b[0;32m   1147\u001b[0m         \u001b[1;34m\"\"\"Search all candidates in param_grid\"\"\"\u001b[0m\u001b[1;33m\u001b[0m\u001b[1;33m\u001b[0m\u001b[0m\n\u001b[1;32m-> 1148\u001b[1;33m         \u001b[0mevaluate_candidates\u001b[0m\u001b[1;33m(\u001b[0m\u001b[0mParameterGrid\u001b[0m\u001b[1;33m(\u001b[0m\u001b[0mself\u001b[0m\u001b[1;33m.\u001b[0m\u001b[0mparam_grid\u001b[0m\u001b[1;33m)\u001b[0m\u001b[1;33m)\u001b[0m\u001b[1;33m\u001b[0m\u001b[1;33m\u001b[0m\u001b[0m\n\u001b[0m\u001b[0;32m   1149\u001b[0m \u001b[1;33m\u001b[0m\u001b[0m\n\u001b[0;32m   1150\u001b[0m \u001b[1;33m\u001b[0m\u001b[0m\n",
      "\u001b[1;32mC:\\Anaconda3\\envs\\NLP37\\lib\\site-packages\\sklearn\\model_selection\\_search.py\u001b[0m in \u001b[0;36mevaluate_candidates\u001b[1;34m(candidate_params)\u001b[0m\n\u001b[0;32m    664\u001b[0m                                \u001b[1;32mfor\u001b[0m \u001b[0mparameters\u001b[0m\u001b[1;33m,\u001b[0m \u001b[1;33m(\u001b[0m\u001b[0mtrain\u001b[0m\u001b[1;33m,\u001b[0m \u001b[0mtest\u001b[0m\u001b[1;33m)\u001b[0m\u001b[1;33m\u001b[0m\u001b[1;33m\u001b[0m\u001b[0m\n\u001b[0;32m    665\u001b[0m                                in product(candidate_params,\n\u001b[1;32m--> 666\u001b[1;33m                                           cv.split(X, y, groups)))\n\u001b[0m\u001b[0;32m    667\u001b[0m \u001b[1;33m\u001b[0m\u001b[0m\n\u001b[0;32m    668\u001b[0m                 \u001b[1;32mif\u001b[0m \u001b[0mlen\u001b[0m\u001b[1;33m(\u001b[0m\u001b[0mout\u001b[0m\u001b[1;33m)\u001b[0m \u001b[1;33m<\u001b[0m \u001b[1;36m1\u001b[0m\u001b[1;33m:\u001b[0m\u001b[1;33m\u001b[0m\u001b[1;33m\u001b[0m\u001b[0m\n",
      "\u001b[1;32mC:\\Anaconda3\\envs\\NLP37\\lib\\site-packages\\joblib\\parallel.py\u001b[0m in \u001b[0;36m__call__\u001b[1;34m(self, iterable)\u001b[0m\n\u001b[0;32m    932\u001b[0m \u001b[1;33m\u001b[0m\u001b[0m\n\u001b[0;32m    933\u001b[0m             \u001b[1;32mwith\u001b[0m \u001b[0mself\u001b[0m\u001b[1;33m.\u001b[0m\u001b[0m_backend\u001b[0m\u001b[1;33m.\u001b[0m\u001b[0mretrieval_context\u001b[0m\u001b[1;33m(\u001b[0m\u001b[1;33m)\u001b[0m\u001b[1;33m:\u001b[0m\u001b[1;33m\u001b[0m\u001b[1;33m\u001b[0m\u001b[0m\n\u001b[1;32m--> 934\u001b[1;33m                 \u001b[0mself\u001b[0m\u001b[1;33m.\u001b[0m\u001b[0mretrieve\u001b[0m\u001b[1;33m(\u001b[0m\u001b[1;33m)\u001b[0m\u001b[1;33m\u001b[0m\u001b[1;33m\u001b[0m\u001b[0m\n\u001b[0m\u001b[0;32m    935\u001b[0m             \u001b[1;31m# Make sure that we get a last message telling us we are done\u001b[0m\u001b[1;33m\u001b[0m\u001b[1;33m\u001b[0m\u001b[1;33m\u001b[0m\u001b[0m\n\u001b[0;32m    936\u001b[0m             \u001b[0melapsed_time\u001b[0m \u001b[1;33m=\u001b[0m \u001b[0mtime\u001b[0m\u001b[1;33m.\u001b[0m\u001b[0mtime\u001b[0m\u001b[1;33m(\u001b[0m\u001b[1;33m)\u001b[0m \u001b[1;33m-\u001b[0m \u001b[0mself\u001b[0m\u001b[1;33m.\u001b[0m\u001b[0m_start_time\u001b[0m\u001b[1;33m\u001b[0m\u001b[1;33m\u001b[0m\u001b[0m\n",
      "\u001b[1;32mC:\\Anaconda3\\envs\\NLP37\\lib\\site-packages\\joblib\\parallel.py\u001b[0m in \u001b[0;36mretrieve\u001b[1;34m(self)\u001b[0m\n\u001b[0;32m    831\u001b[0m             \u001b[1;32mtry\u001b[0m\u001b[1;33m:\u001b[0m\u001b[1;33m\u001b[0m\u001b[1;33m\u001b[0m\u001b[0m\n\u001b[0;32m    832\u001b[0m                 \u001b[1;32mif\u001b[0m \u001b[0mgetattr\u001b[0m\u001b[1;33m(\u001b[0m\u001b[0mself\u001b[0m\u001b[1;33m.\u001b[0m\u001b[0m_backend\u001b[0m\u001b[1;33m,\u001b[0m \u001b[1;34m'supports_timeout'\u001b[0m\u001b[1;33m,\u001b[0m \u001b[1;32mFalse\u001b[0m\u001b[1;33m)\u001b[0m\u001b[1;33m:\u001b[0m\u001b[1;33m\u001b[0m\u001b[1;33m\u001b[0m\u001b[0m\n\u001b[1;32m--> 833\u001b[1;33m                     \u001b[0mself\u001b[0m\u001b[1;33m.\u001b[0m\u001b[0m_output\u001b[0m\u001b[1;33m.\u001b[0m\u001b[0mextend\u001b[0m\u001b[1;33m(\u001b[0m\u001b[0mjob\u001b[0m\u001b[1;33m.\u001b[0m\u001b[0mget\u001b[0m\u001b[1;33m(\u001b[0m\u001b[0mtimeout\u001b[0m\u001b[1;33m=\u001b[0m\u001b[0mself\u001b[0m\u001b[1;33m.\u001b[0m\u001b[0mtimeout\u001b[0m\u001b[1;33m)\u001b[0m\u001b[1;33m)\u001b[0m\u001b[1;33m\u001b[0m\u001b[1;33m\u001b[0m\u001b[0m\n\u001b[0m\u001b[0;32m    834\u001b[0m                 \u001b[1;32melse\u001b[0m\u001b[1;33m:\u001b[0m\u001b[1;33m\u001b[0m\u001b[1;33m\u001b[0m\u001b[0m\n\u001b[0;32m    835\u001b[0m                     \u001b[0mself\u001b[0m\u001b[1;33m.\u001b[0m\u001b[0m_output\u001b[0m\u001b[1;33m.\u001b[0m\u001b[0mextend\u001b[0m\u001b[1;33m(\u001b[0m\u001b[0mjob\u001b[0m\u001b[1;33m.\u001b[0m\u001b[0mget\u001b[0m\u001b[1;33m(\u001b[0m\u001b[1;33m)\u001b[0m\u001b[1;33m)\u001b[0m\u001b[1;33m\u001b[0m\u001b[1;33m\u001b[0m\u001b[0m\n",
      "\u001b[1;32mC:\\Anaconda3\\envs\\NLP37\\lib\\site-packages\\joblib\\_parallel_backends.py\u001b[0m in \u001b[0;36mwrap_future_result\u001b[1;34m(future, timeout)\u001b[0m\n\u001b[0;32m    519\u001b[0m         AsyncResults.get from multiprocessing.\"\"\"\n\u001b[0;32m    520\u001b[0m         \u001b[1;32mtry\u001b[0m\u001b[1;33m:\u001b[0m\u001b[1;33m\u001b[0m\u001b[1;33m\u001b[0m\u001b[0m\n\u001b[1;32m--> 521\u001b[1;33m             \u001b[1;32mreturn\u001b[0m \u001b[0mfuture\u001b[0m\u001b[1;33m.\u001b[0m\u001b[0mresult\u001b[0m\u001b[1;33m(\u001b[0m\u001b[0mtimeout\u001b[0m\u001b[1;33m=\u001b[0m\u001b[0mtimeout\u001b[0m\u001b[1;33m)\u001b[0m\u001b[1;33m\u001b[0m\u001b[1;33m\u001b[0m\u001b[0m\n\u001b[0m\u001b[0;32m    522\u001b[0m         \u001b[1;32mexcept\u001b[0m \u001b[0mLokyTimeoutError\u001b[0m\u001b[1;33m:\u001b[0m\u001b[1;33m\u001b[0m\u001b[1;33m\u001b[0m\u001b[0m\n\u001b[0;32m    523\u001b[0m             \u001b[1;32mraise\u001b[0m \u001b[0mTimeoutError\u001b[0m\u001b[1;33m(\u001b[0m\u001b[1;33m)\u001b[0m\u001b[1;33m\u001b[0m\u001b[1;33m\u001b[0m\u001b[0m\n",
      "\u001b[1;32mC:\\Anaconda3\\envs\\NLP37\\lib\\concurrent\\futures\\_base.py\u001b[0m in \u001b[0;36mresult\u001b[1;34m(self, timeout)\u001b[0m\n\u001b[0;32m    430\u001b[0m                 \u001b[1;32mraise\u001b[0m \u001b[0mCancelledError\u001b[0m\u001b[1;33m(\u001b[0m\u001b[1;33m)\u001b[0m\u001b[1;33m\u001b[0m\u001b[1;33m\u001b[0m\u001b[0m\n\u001b[0;32m    431\u001b[0m             \u001b[1;32melif\u001b[0m \u001b[0mself\u001b[0m\u001b[1;33m.\u001b[0m\u001b[0m_state\u001b[0m \u001b[1;33m==\u001b[0m \u001b[0mFINISHED\u001b[0m\u001b[1;33m:\u001b[0m\u001b[1;33m\u001b[0m\u001b[1;33m\u001b[0m\u001b[0m\n\u001b[1;32m--> 432\u001b[1;33m                 \u001b[1;32mreturn\u001b[0m \u001b[0mself\u001b[0m\u001b[1;33m.\u001b[0m\u001b[0m__get_result\u001b[0m\u001b[1;33m(\u001b[0m\u001b[1;33m)\u001b[0m\u001b[1;33m\u001b[0m\u001b[1;33m\u001b[0m\u001b[0m\n\u001b[0m\u001b[0;32m    433\u001b[0m             \u001b[1;32melse\u001b[0m\u001b[1;33m:\u001b[0m\u001b[1;33m\u001b[0m\u001b[1;33m\u001b[0m\u001b[0m\n\u001b[0;32m    434\u001b[0m                 \u001b[1;32mraise\u001b[0m \u001b[0mTimeoutError\u001b[0m\u001b[1;33m(\u001b[0m\u001b[1;33m)\u001b[0m\u001b[1;33m\u001b[0m\u001b[1;33m\u001b[0m\u001b[0m\n",
      "\u001b[1;32mC:\\Anaconda3\\envs\\NLP37\\lib\\concurrent\\futures\\_base.py\u001b[0m in \u001b[0;36m__get_result\u001b[1;34m(self)\u001b[0m\n\u001b[0;32m    382\u001b[0m     \u001b[1;32mdef\u001b[0m \u001b[0m__get_result\u001b[0m\u001b[1;33m(\u001b[0m\u001b[0mself\u001b[0m\u001b[1;33m)\u001b[0m\u001b[1;33m:\u001b[0m\u001b[1;33m\u001b[0m\u001b[1;33m\u001b[0m\u001b[0m\n\u001b[0;32m    383\u001b[0m         \u001b[1;32mif\u001b[0m \u001b[0mself\u001b[0m\u001b[1;33m.\u001b[0m\u001b[0m_exception\u001b[0m\u001b[1;33m:\u001b[0m\u001b[1;33m\u001b[0m\u001b[1;33m\u001b[0m\u001b[0m\n\u001b[1;32m--> 384\u001b[1;33m             \u001b[1;32mraise\u001b[0m \u001b[0mself\u001b[0m\u001b[1;33m.\u001b[0m\u001b[0m_exception\u001b[0m\u001b[1;33m\u001b[0m\u001b[1;33m\u001b[0m\u001b[0m\n\u001b[0m\u001b[0;32m    385\u001b[0m         \u001b[1;32melse\u001b[0m\u001b[1;33m:\u001b[0m\u001b[1;33m\u001b[0m\u001b[1;33m\u001b[0m\u001b[0m\n\u001b[0;32m    386\u001b[0m             \u001b[1;32mreturn\u001b[0m \u001b[0mself\u001b[0m\u001b[1;33m.\u001b[0m\u001b[0m_result\u001b[0m\u001b[1;33m\u001b[0m\u001b[1;33m\u001b[0m\u001b[0m\n",
      "\u001b[1;31mValueError\u001b[0m: Expected array-like (array or non-string sequence), got None"
     ]
    }
   ],
   "source": [
    "from sklearn.base import BaseEstimator, ClassifierMixin\n",
    "%pylab\n",
    "\n",
    "class Estimatron(BaseEstimator, ClassifierMixin):\n",
    "    def __init__(self, x=[1, 2, 3]):\n",
    "        pass\n",
    "    def fit(self, X, y=None):\n",
    "        return self\n",
    "    def predict(self, X):\n",
    "        pass\n",
    "    def predict_proba(self, X):\n",
    "        pass\n",
    "    \n",
    "\n",
    "from sklearn.model_selection import GridSearchCV\n",
    "    \n",
    "parameters = [{'x':[\n",
    "                               array([50]), \n",
    "                               array([100]),\n",
    "                               array([150]),\n",
    "                               array([200]),\n",
    "                               array([50, 50]),\n",
    "                               array([100, 100]),\n",
    "                               array([150, 150]),\n",
    "                                ]\n",
    "              }]\n",
    "\n",
    "grid = GridSearchCV(Estimatron(), param_grid=parameters, scoring='f1', cv=3, n_jobs=-1, verbose=11)\n",
    "\n",
    "grid.fit(S_tr, y_oh_train)\n"
   ]
  },
  {
   "cell_type": "code",
   "execution_count": 33,
   "metadata": {},
   "outputs": [
    {
     "data": {
      "text/plain": [
       "{'a': [23, 23, 23, 23, 34], 'b': [23, 23], 'c': [1, 2, 3]}"
      ]
     },
     "execution_count": 33,
     "metadata": {},
     "output_type": "execute_result"
    }
   ],
   "source": [
    "a = {}\n",
    "\n",
    "b = {'a': [23, 23, 23, 23, 34], 'b': [23, 23], 'c': [1, 2, 3]}\n",
    "\n",
    "a = {**b}\n",
    "\n",
    "a"
   ]
  }
 ],
 "metadata": {
  "kernelspec": {
   "display_name": "ML",
   "language": "python",
   "name": "ml"
  },
  "language_info": {
   "codemirror_mode": {
    "name": "ipython",
    "version": 3
   },
   "file_extension": ".py",
   "mimetype": "text/x-python",
   "name": "python",
   "nbconvert_exporter": "python",
   "pygments_lexer": "ipython3",
   "version": "3.7.5"
  }
 },
 "nbformat": 4,
 "nbformat_minor": 4
}
