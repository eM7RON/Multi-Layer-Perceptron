{
 "cells": [
  {
   "cell_type": "markdown",
   "metadata": {},
   "source": [
    "## Neural Networks\n",
    "\n",
    "In this notebook we will code a neural network from scratch and then use it to solve an character recognition task"
   ]
  },
  {
   "cell_type": "markdown",
   "metadata": {},
   "source": [
    "#### Use following commands in anaconda prompt to replicate this environment:\n",
    "\n",
    "conda create -n ML python=3.7.5 numpy scipy scikit-learn matplotlib ipykernel \n",
    "\n",
    "conda activate ML\n",
    "\n",
    "conda install -c conda-forge kaggle\n",
    "\n",
    "python -m ipykernel install --user --name ML --display-name ML"
   ]
  },
  {
   "cell_type": "markdown",
   "metadata": {},
   "source": [
    "#### Should produce the environment below"
   ]
  },
  {
   "cell_type": "code",
   "execution_count": 1,
   "metadata": {},
   "outputs": [
    {
     "name": "stdout",
     "output_type": "stream",
     "text": [
      "3.7.5 (default, Oct 31 2019, 15:18:51) [MSC v.1916 64 bit (AMD64)]\n",
      "# packages in environment at C:\\Anaconda3\\envs\\ML:\n",
      "#\n",
      "# Name                    Version                   Build  Channel\n",
      "backcall                  0.1.0                    py37_0  \n",
      "blas                      1.0                         mkl  \n",
      "ca-certificates           2019.11.28           hecc5488_0    conda-forge\n",
      "certifi                   2019.11.28               py37_0    conda-forge\n",
      "cffi                      1.13.2           py37hb32ad35_0    conda-forge\n",
      "chardet                   3.0.4                 py37_1003    conda-forge\n",
      "colorama                  0.4.3                      py_0  \n",
      "cryptography              2.8              py37hb32ad35_1    conda-forge\n",
      "cycler                    0.10.0                   py37_0  \n",
      "decorator                 4.4.1                      py_0  \n",
      "freetype                  2.9.1                ha9979f8_1  \n",
      "icc_rt                    2019.0.0             h0cc432a_1  \n",
      "icu                       58.2                 ha66f8fd_1  \n",
      "idna                      2.8                   py37_1000    conda-forge\n",
      "intel-openmp              2019.4                      245  \n",
      "ipykernel                 5.1.3            py37h39e3cac_0  \n",
      "ipython                   7.10.2           py37h39e3cac_0  \n",
      "ipython_genutils          0.2.0                    py37_0  \n",
      "jedi                      0.15.1                   py37_0  \n",
      "joblib                    0.14.1                     py_0  \n",
      "jpeg                      9b                   hb83a4c4_2  \n",
      "jupyter_client            5.3.4                    py37_0  \n",
      "jupyter_core              4.6.1                    py37_0  \n",
      "kaggle                    1.5.6                    py37_1    conda-forge\n",
      "kiwisolver                1.1.0            py37ha925a31_0  \n",
      "libpng                    1.6.37               h2a8f88b_0  \n",
      "libsodium                 1.0.16               h9d3ae62_0  \n",
      "matplotlib                3.1.1            py37hc8f65d3_0  \n",
      "mkl                       2019.4                      245  \n",
      "mkl-service               2.3.0            py37hb782905_0  \n",
      "mkl_fft                   1.0.15           py37h14836fe_0  \n",
      "mkl_random                1.1.0            py37h675688f_0  \n",
      "numpy                     1.17.4           py37h4320e6b_0  \n",
      "numpy-base                1.17.4           py37hc3f5095_0  \n",
      "openssl                   1.1.1d               hfa6e2cd_0    conda-forge\n",
      "parso                     0.5.2                      py_0  \n",
      "pickleshare               0.7.5                    py37_0  \n",
      "pip                       19.3.1                   py37_0  \n",
      "prompt_toolkit            3.0.2                      py_0  \n",
      "pycparser                 2.19                     py37_1    conda-forge\n",
      "pygments                  2.5.2                      py_0  \n",
      "pyopenssl                 19.1.0                   py37_0    conda-forge\n",
      "pyparsing                 2.4.5                      py_0  \n",
      "pyqt                      5.9.2            py37h6538335_2  \n",
      "pysocks                   1.7.1                    py37_0    conda-forge\n",
      "python                    3.7.5                h8c8aaf0_0  \n",
      "python-dateutil           2.8.1                      py_0  \n",
      "python-slugify            1.2.6                      py_0    conda-forge\n",
      "pytz                      2019.3                     py_0  \n",
      "pywin32                   227              py37he774522_0  \n",
      "pyzmq                     18.1.0           py37ha925a31_0  \n",
      "qt                        5.9.7            vc14h73c81de_0  \n",
      "requests                  2.22.0                   py37_1    conda-forge\n",
      "scikit-learn              0.22             py37h6288b17_0  \n",
      "scipy                     1.3.2            py37h29ff71c_0  \n",
      "setuptools                42.0.2                   py37_0  \n",
      "sip                       4.19.8           py37h6538335_0  \n",
      "six                       1.13.0                   py37_0  \n",
      "sqlite                    3.30.1               he774522_0  \n",
      "tornado                   6.0.3            py37he774522_0  \n",
      "tqdm                      4.41.1                     py_0    conda-forge\n",
      "traitlets                 4.3.3                    py37_0  \n",
      "unidecode                 1.1.1                      py_0    conda-forge\n",
      "urllib3                   1.24.3                   py37_0    conda-forge\n",
      "vc                        14.1                 h0510ff6_4  \n",
      "vs2015_runtime            14.16.27012          hf0eaf9b_1  \n",
      "wcwidth                   0.1.7                    py37_0  \n",
      "wheel                     0.33.6                   py37_0  \n",
      "win_inet_pton             1.1.0                    py37_0    conda-forge\n",
      "wincertstore              0.2                      py37_0  \n",
      "zeromq                    4.3.1                h33f27b4_3  \n",
      "zlib                      1.2.11               h62dcd97_3  \n"
     ]
    }
   ],
   "source": [
    "print(__import__('sys').version)\n",
    "!conda list -n ML"
   ]
  },
  {
   "cell_type": "markdown",
   "metadata": {},
   "source": [
    "#### Load up a dataset\n",
    "\n",
    "Kaggle.com has many datasets which are freely available. Simply make an account and sign in. Click on your profile image in the top-right corner. This may be blank if you have not added one. A drop-down box will appear. Select 'My Account', which will load up your account settings. Scroll down untill you see your API options and select 'Create New API Token'. Save this json file to your '.\\kaggle' directory. My default on Windows 10 was 'C:\\Users\\Simon\\\\.kaggle'\n",
    "\n",
    "The following code should download and unpack the MNIST dataset from kaggle.com; which is a well known character recognition dataset."
   ]
  },
  {
   "cell_type": "code",
   "execution_count": 1,
   "metadata": {},
   "outputs": [],
   "source": [
    "import kaggle, os\n",
    "kaggle.api.authenticate()\n",
    "kaggle.api.dataset_download_files('avnishnish/mnist-original', path=os.getcwd(), unzip=True) "
   ]
  },
  {
   "cell_type": "markdown",
   "metadata": {},
   "source": [
    "Import numpy and matplotlib libraries. \n",
    "The 'inline' argument sets matplotlib figures to display in the notebook rather than in a separate window. "
   ]
  },
  {
   "cell_type": "code",
   "execution_count": 1,
   "metadata": {},
   "outputs": [
    {
     "name": "stdout",
     "output_type": "stream",
     "text": [
      "Populating the interactive namespace from numpy and matplotlib\n"
     ]
    }
   ],
   "source": [
    "%pylab inline"
   ]
  },
  {
   "cell_type": "markdown",
   "metadata": {},
   "source": [
    "#### Load the downloaded dataset into the namespace"
   ]
  },
  {
   "cell_type": "code",
   "execution_count": 2,
   "metadata": {},
   "outputs": [],
   "source": [
    "from scipy.io import loadmat\n",
    "\n",
    "data = loadmat(\".\\mnist-original\")\n",
    "X    = data[\"data\"].T\n",
    "y    = data[\"label\"][0]\n",
    "del data"
   ]
  },
  {
   "cell_type": "markdown",
   "metadata": {},
   "source": [
    "We can see that we have 70k samples with 784 features.\n",
    "\n",
    "It can be seen that even with small image sizes, the dimensionality of the problem is very large.\n",
    "This is one of the problems that convolutional layers in Convolutional Neural Networks overcome."
   ]
  },
  {
   "cell_type": "code",
   "execution_count": 3,
   "metadata": {},
   "outputs": [
    {
     "data": {
      "text/plain": [
       "(70000, 784)"
      ]
     },
     "execution_count": 3,
     "metadata": {},
     "output_type": "execute_result"
    }
   ],
   "source": [
    "X.shape"
   ]
  },
  {
   "cell_type": "markdown",
   "metadata": {},
   "source": [
    "Each sample is essentially a reshaped 28x28 pixel grey scale image i.e. a 24-bit image that has been flattened into a single 8-bit channel. This means the minimum and maximum values are 0 and 255 respectively. Any negative values or values greater than 255 would be invalid. A quick check looks good:"
   ]
  },
  {
   "cell_type": "code",
   "execution_count": 4,
   "metadata": {},
   "outputs": [
    {
     "data": {
      "text/plain": [
       "(0, 255)"
      ]
     },
     "execution_count": 4,
     "metadata": {},
     "output_type": "execute_result"
    }
   ],
   "source": [
    "X.min(), X.max()"
   ]
  },
  {
   "cell_type": "markdown",
   "metadata": {},
   "source": [
    "We can also see there is no nan data e.g. 'inf'"
   ]
  },
  {
   "cell_type": "code",
   "execution_count": 5,
   "metadata": {},
   "outputs": [
    {
     "data": {
      "text/plain": [
       "0"
      ]
     },
     "execution_count": 5,
     "metadata": {},
     "output_type": "execute_result"
    }
   ],
   "source": [
    "sum(isnan(X))"
   ]
  },
  {
   "cell_type": "code",
   "execution_count": 6,
   "metadata": {},
   "outputs": [],
   "source": [
    "X = X.astype(float64)\n",
    "y = y.astype(uint8)"
   ]
  },
  {
   "cell_type": "markdown",
   "metadata": {},
   "source": [
    "We can see that there are 10 unique classes"
   ]
  },
  {
   "cell_type": "code",
   "execution_count": 7,
   "metadata": {},
   "outputs": [
    {
     "data": {
      "text/plain": [
       "array([0, 1, 2, 3, 4, 5, 6, 7, 8, 9], dtype=uint8)"
      ]
     },
     "execution_count": 7,
     "metadata": {},
     "output_type": "execute_result"
    }
   ],
   "source": [
    "unique(y)"
   ]
  },
  {
   "cell_type": "markdown",
   "metadata": {},
   "source": [
    "Each class is roughly equally representated in the data. We won't be looking at balancing datasets in this notebook."
   ]
  },
  {
   "cell_type": "code",
   "execution_count": 8,
   "metadata": {},
   "outputs": [
    {
     "name": "stdout",
     "output_type": "stream",
     "text": [
      "0: 6903\n",
      "1: 7877\n",
      "2: 6990\n",
      "3: 7141\n",
      "4: 6824\n",
      "5: 6313\n",
      "6: 6876\n",
      "7: 7293\n",
      "8: 6825\n",
      "9: 6958\n"
     ]
    }
   ],
   "source": [
    "print(*(f'{i}: {sum(y==i)}' for i in range(10)), sep='\\n')"
   ]
  },
  {
   "cell_type": "code",
   "execution_count": 9,
   "metadata": {},
   "outputs": [
    {
     "data": {
      "image/png": "[encoded data removed]",
      "text/plain": [
       "<Figure size 432x288 with 10 Axes>"
      ]
     },
     "metadata": {
      "needs_background": "light"
     },
     "output_type": "display_data"
    }
   ],
   "source": [
    "progress = set()\n",
    "\n",
    "while progress.__len__() < 10:\n",
    "    for i in range(y.__len__()):\n",
    "        if y[i] not in progress:\n",
    "            subplot(2, 5, int(y[i]) + 1)\n",
    "            imshow(X[i].reshape(28, 28), cmap=cm.gray_r)\n",
    "            axis('off')\n",
    "            progress.add(y[i])\n",
    "show()"
   ]
  },
  {
   "cell_type": "markdown",
   "metadata": {},
   "source": [
    "We need to convert the numerical class labels into One Hot encoding"
   ]
  },
  {
   "cell_type": "code",
   "execution_count": 10,
   "metadata": {},
   "outputs": [
    {
     "data": {
      "text/plain": [
       "(0, array([1., 0., 0., 0., 0., 0., 0., 0., 0., 0.]))"
      ]
     },
     "execution_count": 10,
     "metadata": {},
     "output_type": "execute_result"
    }
   ],
   "source": [
    "n = y.__len__()\n",
    "\n",
    "y_oh = zeros((n, 10))\n",
    "\n",
    "y_oh[range(n), y] = 1.\n",
    "\n",
    "y[0], y_oh[0]"
   ]
  },
  {
   "cell_type": "markdown",
   "metadata": {},
   "source": [
    "We'll split the data into training and test sets"
   ]
  },
  {
   "cell_type": "code",
   "execution_count": 11,
   "metadata": {},
   "outputs": [
    {
     "data": {
      "text/plain": [
       "14000"
      ]
     },
     "execution_count": 11,
     "metadata": {},
     "output_type": "execute_result"
    }
   ],
   "source": [
    "from sklearn.model_selection import train_test_split\n",
    "\n",
    "X_train, X_test, y_train, y_test, y_train_oh, y_test_oh = train_test_split(X, y, y_oh, test_size=0.2)#, random_state=117)\n",
    "\n",
    "del X, y, y_oh\n",
    "\n",
    "y_test.__len__()"
   ]
  },
  {
   "cell_type": "markdown",
   "metadata": {},
   "source": [
    "Just a sanity check: it can be seen that scikit-learn's train_test_split function ensures each class is roughly equally represented in the training and test sets "
   ]
  },
  {
   "cell_type": "code",
   "execution_count": 12,
   "metadata": {},
   "outputs": [
    {
     "name": "stdout",
     "output_type": "stream",
     "text": [
      "Unique labels in training set:  [0 1 2 3 4 5 6 7 8 9]\n",
      "Number of each label:  5539 6315 5594 5745 5420 5102 5437 5766 5463 5619\n",
      "Unique labels in test set:  [0 1 2 3 4 5 6 7 8 9]\n",
      "Number of each label:  1364 1562 1396 1396 1404 1211 1439 1527 1362 1339\n"
     ]
    }
   ],
   "source": [
    "print('Unique labels in training set: ', unique(y_train))\n",
    "print('Number of each label: ', *(sum(y_train==i) for i in range(10)))\n",
    "print('Unique labels in test set: ', unique(y_test))\n",
    "print('Number of each label: ', *(sum(y_test==i) for i in range(10)))"
   ]
  },
  {
   "cell_type": "code",
   "execution_count": 13,
   "metadata": {},
   "outputs": [],
   "source": [
    "from sklearn.preprocessing import StandardScaler\n",
    "scaler = StandardScaler()\n",
    "X_train = scaler.fit_transform(X_train)\n",
    "X_test = scaler.transform(X_test)"
   ]
  },
  {
   "cell_type": "markdown",
   "metadata": {},
   "source": [
    "The following standardizes the data by: \n",
    "\n",
    "## $ z = \\frac{x - u}{s} $\n",
    "\n",
    "where x, u and s the sample value, mean and standard deviation respectively."
   ]
  },
  {
   "cell_type": "markdown",
   "metadata": {},
   "source": [
    "## Scratch built MLP\n",
    "\n",
    "Below is the code for our Multi Layer Perceptron. It is a basic neural network consisting exclusively of fully connected layers."
   ]
  },
  {
   "cell_type": "code",
   "execution_count": 14,
   "metadata": {},
   "outputs": [],
   "source": [
    "from sklearn.base import BaseEstimator, ClassifierMixin\n",
    "from sklearn.metrics import log_loss\n",
    "from tqdm import tqdm\n",
    "\n",
    "class MultiLayerPerceptron(BaseEstimator, ClassifierMixin):\n",
    "    \n",
    "    '''\n",
    "    A multilayer perceptron which uses an online gradient descent algorithm with \n",
    "    momentum to train the weights by back propagation\n",
    "    \n",
    "    Dependencies:\n",
    "        numpy\n",
    "        sklearn\n",
    "\n",
    "    Args:\n",
    "        n_in                - int, the dimensionality of the input data, number of features\n",
    "        n_out               - int, the dimensionality of the target vector\n",
    "        hidden_layers       - list, containing ints of desired weight array dimensions, \n",
    "                              n_hidden = len(hidden_layers) and will equal the number of\n",
    "                              desired hidden layers, when n_hidden == 1 the first two weight \n",
    "                              arrays will be of shape [n_in, n_hidden[0]] and [n_hidden[0], n_out], \n",
    "                              when len(n_hidden) == 2 the first two weight arrays will be of\n",
    "                              shape [n_in, n_hidden[0]] and [n_hidden[0], n_hidden[1]]\n",
    "        learning_rate       - float, effects the step size of gradient decent\n",
    "        momentum            - float, effects the step size of gradient decent\n",
    "        max_iter            - int, number of epochs to train model\n",
    "        random_state        - hashable, to seed random number generator\n",
    "        one_hot_output      - bool, if True predictions will be one hot encoded, else base 10 numerical\n",
    "        loss_function       - callable, method, how to calculate error\n",
    "        cost_function       - callable, method, an average measure of distance/error from targets over\n",
    "                              multiplesamples/epochs\n",
    "        internal_activation - callable, method, default='tanh', the activation function used between layers \n",
    "                              from inputs and through to the final hidden layer\n",
    "        output_activation   - callable, method, default='softmax', the activation function used between the \n",
    "                              final hidden layer and the output layer\n",
    "        cost_freq           - int, number of epochs between cost calculation/output\n",
    "        \n",
    "    Attributes:\n",
    "        W                   - list, contains ndarrays of weights of the network,\n",
    "                              dimenionality is determined by n_in, n_out, n_hidden\n",
    "        dW                  - list, contains weight deltas for gradient decent\n",
    "        b                   - list, containing ndarrays of biases\n",
    "        db                  - list, contains bias deltas for gradient decent\n",
    "        errors              - list, containing ndarrays of calculated errors of the network\n",
    "        deltas              - list, containing ndarrays, gradients of the decent\n",
    "        tanh                - method, numpy.tanh, calculates hyperbolic tangent (Not implemented)\n",
    "        \n",
    "    To do:\n",
    "        implement:\n",
    "                 mini batch\n",
    "                 regularization\n",
    "                 batch normalization\n",
    "                 \n",
    "    '''\n",
    "    \n",
    "    epsilon = finfo(longdouble).eps\n",
    "    W       = []\n",
    "    b       = []\n",
    "    dW      = []\n",
    "    db      = []\n",
    "\n",
    "    def __init__(\n",
    "                 self,\n",
    "                 n_in                = 784, \n",
    "                 n_out               = 10,\n",
    "                 hidden_layers       = [100],\n",
    "                 learning_rate       = 1e-3, \n",
    "                 momentum            = 0.9,\n",
    "                 max_epoch           = 30,\n",
    "                 random_state        = None,\n",
    "                 network_id          = None,\n",
    "                 internal_activation = 'tanh',\n",
    "                 output_activation   = 'softmax',\n",
    "                 loss_function       = 'simple_error',\n",
    "                 cost_function       = 'cross_entropy',\n",
    "                 one_hot_output      = True,\n",
    "                 cost_freq           = 10,\n",
    "                 verbose             = False,\n",
    "                 ):\n",
    "\n",
    "        self.n_in                  = n_in\n",
    "        self.n_out                 = n_out\n",
    "        self.hidden_layers         = hidden_layers\n",
    "        self.max_epoch             = max_epoch\n",
    "        self.learning_rate         = learning_rate\n",
    "        self.momentum              = momentum\n",
    "        self.max_epoch             = max_epoch\n",
    "        self.random_state          = random_state\n",
    "        self.network_id            = network_id\n",
    "        \n",
    "        self.internal_activation   = internal_activation\n",
    "        self.output_activation     = output_activation\n",
    "        self.loss_function         = loss_function\n",
    "        self.cost_function         = cost_function\n",
    "        \n",
    "        self.one_hot_output        = one_hot_output\n",
    "        \n",
    "        self.internal_activation   = internal_activation\n",
    "        #self.activation_derivative = internal_activation + '_derivative'\n",
    "        self.output_activation     = output_activation\n",
    "        self.loss_function         = loss_function\n",
    "        self.cost_function         = cost_function\n",
    "        self.cost_freq             = cost_freq\n",
    "        \n",
    "        self.verbose               = verbose\n",
    "        \n",
    "        ####################################################################\n",
    "        #                    Initialize weights and biases                 #\n",
    "        ####################################################################\n",
    "        \n",
    "            \n",
    "    def _initialize(self):\n",
    "        \n",
    "        if self.random_state is not None:\n",
    "            seed(self.random_state)\n",
    "            \n",
    "        self.tanh         = tanh\n",
    "        self.log_loss     = log_loss\n",
    "        self.in_act       = getattr(self, self.internal_activation)\n",
    "        self.in_act_deriv = getattr(self, self.internal_activation + '_derivative')\n",
    "        self.out_act      = getattr(self, self.output_activation)\n",
    "        self.loss_func    = getattr(self, self.loss_function)\n",
    "        self.cost_func    = getattr(self, self.cost_function)\n",
    "        \n",
    "        dimensions                 = [self.n_in, *self.hidden_layers, self.n_out]\n",
    "        self.n_hidden              = self.hidden_layers.__len__()\n",
    "        n_layers                   = self.n_hidden + 1\n",
    "        \n",
    "        self.iter_forward          = list(zip(range(1, self.n_hidden), range(0, self.n_hidden - 1)))\n",
    "        self.iter_backward         = list(zip(range(self.n_hidden - 1, 0, -1), range(self.n_hidden, 1, -1)))\n",
    "        self.iter_update           = range(self.n_hidden)\n",
    "        \n",
    "        self.activations = [0] * n_layers\n",
    "        self.errors      = [0] * n_layers\n",
    "        self.deltas      = [0] * n_layers\n",
    "        \n",
    "        for i in range(n_layers):\n",
    "            self.W.append(uniform(-1., 1., (dimensions[i], dimensions[i + 1])).astype(float64))\n",
    "            self.dW.append(zeros(self.W[i].shape))\n",
    "            self.b.append(uniform(-1., 1., (dimensions[i + 1])).astype(float64))\n",
    "            self.db.append(zeros(self.b[i].shape))\n",
    "        \n",
    "    def fit(self, X, y=None, max_epoch=None):\n",
    "        self._initialize()\n",
    "        sample_range  = range(X.shape[0])\n",
    "        if max_epoch is not None:\n",
    "            self.max_epoch = max_epoch\n",
    "        self.error_cache = zeros(y.shape) # Will collect error for MSE calculation\n",
    "        \n",
    "        for i in tqdm(range(self.max_epoch)):\n",
    "            self.error_cache *= 0.\n",
    "            \n",
    "            for j in range(self.n_hidden + 1):\n",
    "                self.dW[j] *= 0.\n",
    "                self.db[j] *= 0.\n",
    "\n",
    "            for j in sample_range:\n",
    "                self.x, self.y = X[j], y[j]\n",
    "                self.feedforward()        \n",
    "                self.backpropagation()\n",
    "                self.update()\n",
    "                \n",
    "                self.error_cache[j] = self.cost_func(self.y, self.activations[self.n_hidden])\n",
    "                                      \n",
    "            if self.verbose and i % 10 == 0: # Print out progress\n",
    "                \n",
    "                # Mean squared error is a simple and stable calculation for monitoring\n",
    "                # learning progress. Cross entropy is perhaps a better indicator for\n",
    "                # binary classification.\n",
    "                \n",
    "                self.error_out = mean(self.error_cache ** 2)\n",
    "                \n",
    "                print('Epoch: %s, Loss: %s' % (i, mean(self.error_cache)))\n",
    "                \n",
    "        return self\n",
    "\n",
    "    def predict_proba(self, X):\n",
    "        '''\n",
    "        Will return a vector of numbers in the interval [0, 1]. If the output activation function\n",
    "        is softmax then the numbers will be probabilities i.e. sum to 1.\n",
    "        '''\n",
    "        self.x = X\n",
    "        # Simply feed x forwards through the network\n",
    "        self.feedforward()\n",
    "        # Creates a boolean array and converts elements to 0 or 1\n",
    "        return self.activations[self.n_hidden]\n",
    "    \n",
    "    def predict(self, X, one_hot_output=None):\n",
    "        '''\n",
    "        Will return predictions. Either base 10 numerical or one hot encoding.\n",
    "        '''\n",
    "        if one_hot_output is not None:\n",
    "            self.one_hot_output = one_hot_output\n",
    "        activation = self.predict_proba(X)\n",
    "        output = argmax(activation, axis=1)\n",
    "        if self.one_hot_output:\n",
    "            one_hot = zeros(activation.shape)\n",
    "            one_hot[range(activation.__len__()) , output] = 1.\n",
    "            output = one_hot\n",
    "        return output\n",
    "    \n",
    "    def feedforward(self):\n",
    "        \n",
    "        ###################################################################\n",
    "        #                           Feedforward                          #\n",
    "        ###################################################################\n",
    "        \n",
    "        # We will collect the network activations\n",
    "\n",
    "        # input layer\n",
    "        self.activations[0] = self.in_act(dot(self.x, self.W[0]) + self.b[0])\n",
    "        # Move the signal from x through the network\n",
    "        for i, j in self.iter_forward:\n",
    "            self.activations[i] = self.in_act(dot(self.activations[j], self.W[i]) + self.b[i])\n",
    "                               \n",
    "        # output layer\n",
    "            \n",
    "        self.activations[self.n_hidden] = self.out_act(\n",
    "                                                       dot(self.activations[self.n_hidden - 1], \\\n",
    "                                                       self.W[self.n_hidden]) \\\n",
    "                                                       + self.b[self.n_hidden]\n",
    "                                                       )\n",
    "                       \n",
    "    def backpropagation(self):\n",
    "        \n",
    "        ###################################################################\n",
    "        #                           Backpropagation                      #\n",
    "        ###################################################################\n",
    "        \n",
    "        # We will collect the errors \n",
    "        # We travel in reverse through the network, starting at the final layer\n",
    "                       \n",
    "        self.errors[self.n_hidden] = self.loss_func(self.y, self.activations[self.n_hidden])\n",
    "        self.deltas[self.n_hidden] = outer(self.activations[self.n_hidden], self.errors[self.n_hidden])\n",
    "        \n",
    "        # Now propagate error backwards through the network\n",
    "        \n",
    "        for i, j in self.iter_backward:\n",
    "            self.errors[i] = self.in_act_deriv(self.activations[i]) * dot(self.W[j], self.errors[j])\n",
    "            self.deltas[i] = outer(self.activations[i], self.errors[i])\n",
    "\n",
    "        # The error of the first layer\n",
    "                 \n",
    "        self.errors[0] = self.in_act_deriv(self.activations[0]) * dot(self.W[1], self.errors[1])\n",
    "        self.deltas[0] = outer(self.x, self.errors[0])\n",
    "        \n",
    "    def update(self):\n",
    "        \n",
    "        ######################################################################\n",
    "        #                       Update weights and biases                    #\n",
    "        ######################################################################\n",
    "        \n",
    "        for i in self.iter_update:\n",
    "            \n",
    "            #The update cache is updated\n",
    "            self.dW[i] = self.dW[i] \\\n",
    "                         * self.momentum \\\n",
    "                         + self.learning_rate \\\n",
    "                         * self.deltas[i]\n",
    "\n",
    "            self.db[i] = self.db[i] \\\n",
    "                         * self.momentum \\\n",
    "                         + self.learning_rate \\\n",
    "                         * self.errors[i]\n",
    "\n",
    "            # The parameters are updated from the update cache\n",
    "\n",
    "            self.W[i] -= self.dW[i]\n",
    "            self.b[i] -= self.db[i]\n",
    "            \n",
    "    ######################################################################\n",
    "    #                        Activation functions                        #\n",
    "    ######################################################################\n",
    "            \n",
    "    def sigmoid(self, x):\n",
    "        '''\n",
    "        Returns the sigmoid of x\n",
    "        '''\n",
    "        return 1. / (1. + exp(-x))\n",
    "    \n",
    "    def sigmoid_derivative(self, x):\n",
    "        '''\n",
    "        Returns derivative of sigmoid(x)\n",
    "        ''' \n",
    "        return x * (1. - x)\n",
    "    \n",
    "    def relu(self, x):\n",
    "        '''\n",
    "        Returns relu of x\n",
    "        '''\n",
    "        return maximum(0., x)\n",
    "\n",
    "    def relu_derivative(self, x):\n",
    "        '''\n",
    "        Returns derivative of relu(x)\n",
    "        '''\n",
    "        x[x <= 0.] = 0.\n",
    "        return x\n",
    "    \n",
    "    def softmax(self, x):\n",
    "        #print(x.shape)\n",
    "        ex = exp(x)\n",
    "        return ex / ex.sum()\n",
    "    \n",
    "    def softmax_derivative(self, y, y_hat):\n",
    "        return y_hat - y\n",
    "    \n",
    "    def tanh_derivative(self, tanhx):\n",
    "        '''\n",
    "        Returns derivative of tanh(x)\n",
    "        '''\n",
    "        return  1. - tanhx ** 2.\n",
    "    \n",
    "    def simple_error(self, y, y_hat):\n",
    "        return y_hat - y\n",
    "    \n",
    "    def cross_entropy(self, y, y_hat):\n",
    "\n",
    "        y_hat = clip(y_hat, self.epsilon, 1. - self.epsilon)\n",
    "        return -(y * log(y_hat) + (1. - y) * log(1. - y_hat))"
   ]
  },
  {
   "cell_type": "code",
   "execution_count": 15,
   "metadata": {},
   "outputs": [],
   "source": [
    "from sklearn.metrics import confusion_matrix, classification_report\n",
    "\n",
    "def display_confusion_matrix(\n",
    "                             targets,\n",
    "                             predictions,\n",
    "                             labels=None,\n",
    "                             normalize=False,\n",
    "                             title_string='Confusion matrix',\n",
    "                             cmap=cm.Blues\n",
    "                             ):\n",
    "    \"\"\"\n",
    "    This function prints and plots a confusion matrix.\n",
    "    Normalization can be applied by setting `normalize=True`.\n",
    "    \n",
    "    targets     - array-like, numerical target labels\n",
    "    predictions - \n",
    "    \"\"\"\n",
    "    if labels is None:\n",
    "        labels = list(unique(targets))\n",
    "    \n",
    "    matrix = confusion_matrix(targets, predictions, labels)\n",
    "    \n",
    "    if normalize:\n",
    "        matrix = matrix.astype('float') / matrix.sum(axis=1)[:, np.newaxis]\n",
    "        print(\"Normalized confusion matrix\")\n",
    "    else:\n",
    "        print('Confusion matrix, without normalization')\n",
    "    figure(figsize=(9, 6))\n",
    "    style.use('seaborn-white')\n",
    "    imshow(matrix, interpolation='nearest', cmap=cmap)\n",
    "    title(title_string)\n",
    "    colorbar()\n",
    "    tick_marks = arange(labels.__len__())\n",
    "    xticks(tick_marks, labels, rotation=45)\n",
    "    yticks(tick_marks, labels)\n",
    "\n",
    "    fmt = '.2f' if normalize else 'd'\n",
    "    thresh = matrix.max() / 2.\n",
    "    for i, j in __import__('itertools').product(range(matrix.shape[0]), range(matrix.shape[1])):\n",
    "        text(j, i, format(matrix[i, j], fmt),\n",
    "                 horizontalalignment=\"center\",\n",
    "                 color=\"white\" if matrix[i, j] > thresh else \"black\")\n",
    "\n",
    "    ylabel('True label', fontsize=13)\n",
    "    xlabel('Predicted label', fontsize=13)\n",
    "    rc('font', size=13)          # controls default text sizes\n",
    "    rc('axes', titlesize=13)\n",
    "    rc('axes', labelsize=13)     # fontsize of the x and y labels\n",
    "    rc('xtick', labelsize=13)    # fontsize of the tick labels\n",
    "    rc('ytick', labelsize=13)    # fontsize of the tick labels\n",
    "    rc('legend', fontsize=13)    # legend fontsize\n",
    "    tight_layout()\n",
    "    show()"
   ]
  },
  {
   "cell_type": "markdown",
   "metadata": {},
   "source": [
    "We will use GridSearchCV from the sklearn library as it allows us to easily parallelize the cross validation process and this will be especially useful because Python isn't the fastest language, even when some of it is calling C/C++ libraries such numpy etc...\n",
    "\n",
    "We will use cross entropy loss as the performance metric as it is very good when the output from your models are probabilities. Grid search expects a performance metric where higher is better so we will create a custom cross entropy scorer where higher is better i.e. returns -1(cross entropy).  "
   ]
  },
  {
   "cell_type": "code",
   "execution_count": 16,
   "metadata": {},
   "outputs": [],
   "source": [
    "from sklearn.metrics import log_loss, make_scorer\n",
    "scorer = make_scorer(log_loss, greater_is_better=False, needs_proba=True)"
   ]
  },
  {
   "cell_type": "markdown",
   "metadata": {},
   "source": [
    "I left the below cell running over night as it took about 13 hours.\n",
    "\n",
    "We are basically trying to find the best size and number of hidden layers."
   ]
  },
  {
   "cell_type": "code",
   "execution_count": 17,
   "metadata": {},
   "outputs": [
    {
     "name": "stdout",
     "output_type": "stream",
     "text": [
      "Fitting 3 folds for each of 13 candidates, totalling 39 fits\n"
     ]
    },
    {
     "name": "stderr",
     "output_type": "stream",
     "text": [
      "[Parallel(n_jobs=11)]: Using backend LokyBackend with 11 concurrent workers.\n",
      "[Parallel(n_jobs=11)]: Done   1 tasks      | elapsed: 17.5min\n",
      "[Parallel(n_jobs=11)]: Done   2 tasks      | elapsed: 17.5min\n",
      "[Parallel(n_jobs=11)]: Done   3 tasks      | elapsed: 17.7min\n",
      "[Parallel(n_jobs=11)]: Done   4 tasks      | elapsed: 33.4min\n",
      "[Parallel(n_jobs=11)]: Done   5 tasks      | elapsed: 33.7min\n",
      "[Parallel(n_jobs=11)]: Done   6 tasks      | elapsed: 34.0min\n",
      "[Parallel(n_jobs=11)]: Done   7 tasks      | elapsed: 74.0min\n",
      "[Parallel(n_jobs=11)]: Done   8 tasks      | elapsed: 79.9min\n",
      "[Parallel(n_jobs=11)]: Done   9 tasks      | elapsed: 80.2min\n",
      "[Parallel(n_jobs=11)]: Done  10 tasks      | elapsed: 117.5min\n",
      "[Parallel(n_jobs=11)]: Done  11 tasks      | elapsed: 126.6min\n",
      "[Parallel(n_jobs=11)]: Done  12 tasks      | elapsed: 154.9min\n",
      "[Parallel(n_jobs=11)]: Done  13 tasks      | elapsed: 169.4min\n",
      "[Parallel(n_jobs=11)]: Done  14 tasks      | elapsed: 181.7min\n",
      "[Parallel(n_jobs=11)]: Done  15 tasks      | elapsed: 195.9min\n",
      "[Parallel(n_jobs=11)]: Done  16 tasks      | elapsed: 228.0min\n",
      "[Parallel(n_jobs=11)]: Done  17 tasks      | elapsed: 230.5min\n",
      "[Parallel(n_jobs=11)]: Done  18 tasks      | elapsed: 243.5min\n",
      "[Parallel(n_jobs=11)]: Done  22 out of  39 | elapsed: 331.2min remaining: 256.0min\n",
      "[Parallel(n_jobs=11)]: Done  26 out of  39 | elapsed: 364.2min remaining: 182.1min\n",
      "[Parallel(n_jobs=11)]: Done  30 out of  39 | elapsed: 483.5min remaining: 145.1min\n",
      "[Parallel(n_jobs=11)]: Done  34 out of  39 | elapsed: 636.0min remaining: 93.5min\n",
      "[Parallel(n_jobs=11)]: Done  39 out of  39 | elapsed: 787.6min finished\n",
      "100%|████████████████████████████████████████████████████████████████████████████████| 100/100 [27:09<00:00, 16.29s/it]\n"
     ]
    },
    {
     "data": {
      "text/plain": [
       "GridSearchCV(cv=3, error_score=nan,\n",
       "             estimator=MultiLayerPerceptron(cost_freq=10,\n",
       "                                            cost_function='cross_entropy',\n",
       "                                            hidden_layers=[50],\n",
       "                                            internal_activation='tanh',\n",
       "                                            learning_rate=0.001,\n",
       "                                            loss_function='error_loss',\n",
       "                                            max_epoch=100, momentum=0.9,\n",
       "                                            n_in=784, n_out=10, network_id=None,\n",
       "                                            one_hot_output=False,\n",
       "                                            output_activation='softmax',\n",
       "                                            random_state=None, verbose=False),\n",
       "             iid='deprecated', n_jobs=11,\n",
       "             param_grid={'hidden_layers': [[10], [25], [50], [75], [100], [150],\n",
       "                                           [200], [10, 10], [25, 25], [50, 50],\n",
       "                                           [75, 75], [100, 100], [200, 200]]},\n",
       "             pre_dispatch='2*n_jobs', refit=True, return_train_score=False,\n",
       "             scoring=make_scorer(log_loss, greater_is_better=False, needs_proba=True),\n",
       "             verbose=11)"
      ]
     },
     "execution_count": 17,
     "metadata": {},
     "output_type": "execute_result"
    }
   ],
   "source": [
    "from sklearn.model_selection import GridSearchCV\n",
    "import multiprocessing\n",
    "\n",
    "n_free = 1 # number of cpu threads you want to be free (maybe you want to browse the internet)\n",
    "    \n",
    "parameters = dict(hidden_layers=[\n",
    "                                [10], \n",
    "                                [25],\n",
    "                                [50],\n",
    "                                [75],\n",
    "                                [100],\n",
    "                                [150],\n",
    "                                [200],\n",
    "                                [10, 10],\n",
    "                                [25, 25],\n",
    "                                [50, 50],\n",
    "                                [75, 75],\n",
    "                                [100, 100],\n",
    "                                [200, 200],\n",
    "                                ])\n",
    "\n",
    "clf = GridSearchCV(estimator=MultiLayerPerceptron(max_epoch=50, one_hot_output=False),\n",
    "                   param_grid=parameters, \n",
    "                   scoring=scorer,\n",
    "                   cv=3,\n",
    "                   n_jobs=multiprocessing.cpu_count() - n_free, \n",
    "                   verbose=11,\n",
    "                   )\n",
    "\n",
    "clf.fit(X_train, y_train_oh)"
   ]
  },
  {
   "cell_type": "markdown",
   "metadata": {},
   "source": [
    "The best parameters are used below and it can be seen the results are pretty good considering we have coded this network from scratch.\n",
    "\n",
    "The most notable/common misclassifications seem to be between 4s and 9s, and between 3s and 5s. "
   ]
  },
  {
   "cell_type": "code",
   "execution_count": 18,
   "metadata": {},
   "outputs": [
    {
     "name": "stderr",
     "output_type": "stream",
     "text": [
      "100%|████████████████████████████████████████████████████████████████████████████████| 100/100 [27:32<00:00, 16.52s/it]\n"
     ]
    },
    {
     "name": "stdout",
     "output_type": "stream",
     "text": [
      "Confusion matrix, without normalization\n"
     ]
    },
    {
     "data": {
      "image/png": "[encoded data removed]",
      "text/plain": [
       "<Figure size 648x432 with 2 Axes>"
      ]
     },
     "metadata": {
      "needs_background": "light"
     },
     "output_type": "display_data"
    },
    {
     "name": "stdout",
     "output_type": "stream",
     "text": [
      "              precision    recall  f1-score   support\n",
      "\n",
      "           0       0.94      0.95      0.95      1378\n",
      "           1       0.96      0.97      0.96      1563\n",
      "           2       0.90      0.89      0.90      1381\n",
      "           3       0.91      0.89      0.90      1435\n",
      "           4       0.91      0.92      0.92      1353\n",
      "           5       0.87      0.90      0.89      1217\n",
      "           6       0.94      0.95      0.94      1446\n",
      "           7       0.92      0.92      0.92      1523\n",
      "           8       0.90      0.88      0.89      1300\n",
      "           9       0.89      0.89      0.89      1404\n",
      "\n",
      "    accuracy                           0.92     14000\n",
      "   macro avg       0.91      0.91      0.91     14000\n",
      "weighted avg       0.92      0.92      0.92     14000\n",
      "\n"
     ]
    }
   ],
   "source": [
    "clf.best_estimator_.fit(X_train, y_train_oh)\n",
    "predictions = clf.best_estimator_.predict(X_test, one_hot_output=False)\n",
    "#predictions = argmax(predictions, axis=1)\n",
    "display_confusion_matrix(y_test, predictions)\n",
    "print(classification_report(y_test, predictions))"
   ]
  }
 ],
 "metadata": {
  "kernelspec": {
   "display_name": "ML",
   "language": "python",
   "name": "ml"
  },
  "language_info": {
   "codemirror_mode": {
    "name": "ipython",
    "version": 3
   },
   "file_extension": ".py",
   "mimetype": "text/x-python",
   "name": "python",
   "nbconvert_exporter": "python",
   "pygments_lexer": "ipython3",
   "version": "3.7.5"
  }
 },
 "nbformat": 4,
 "nbformat_minor": 4
}
